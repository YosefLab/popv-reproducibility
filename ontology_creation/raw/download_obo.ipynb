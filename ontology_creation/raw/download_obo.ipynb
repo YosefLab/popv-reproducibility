{
 "cells": [
  {
   "cell_type": "code",
   "execution_count": 1,
   "id": "dried-vaccine",
   "metadata": {},
   "outputs": [
    {
     "name": "stdout",
     "output_type": "stream",
     "text": [
      "--2022-02-06 22:14:40--  http://purl.obolibrary.org/obo/cl.obo\n",
      "Resolving purl.obolibrary.org (purl.obolibrary.org)... 3.223.180.112\n",
      "Connecting to purl.obolibrary.org (purl.obolibrary.org)|3.223.180.112|:80... connected.\n",
      "HTTP request sent, awaiting response... 302 Found\n",
      "Location: https://raw.githubusercontent.com/obophenotype/cell-ontology/master/cl.obo [following]\n",
      "--2022-02-06 22:14:40--  https://raw.githubusercontent.com/obophenotype/cell-ontology/master/cl.obo\n",
      "Resolving raw.githubusercontent.com (raw.githubusercontent.com)... 185.199.108.133, 185.199.109.133, 185.199.110.133, ...\n",
      "Connecting to raw.githubusercontent.com (raw.githubusercontent.com)|185.199.108.133|:443... connected.\n",
      "HTTP request sent, awaiting response... 200 OK\n",
      "Length: 14198446 (14M) [text/plain]\n",
      "Saving to: ‘cl.obo’\n",
      "\n",
      "cl.obo              100%[===================>]  13.54M  9.16MB/s    in 1.5s    \n",
      "\n",
      "2022-02-06 22:14:43 (9.16 MB/s) - ‘cl.obo’ saved [14198446/14198446]\n",
      "\n"
     ]
    }
   ],
   "source": [
    "!wget https://github.com/obophenotype/cell-ontology/releases/latest/download/cl.obo"
   ]
  },
  {
   "cell_type": "code",
   "execution_count": null,
   "id": "quiet-bikini",
   "metadata": {},
   "outputs": [],
   "source": [
    "# https://obofoundry.org/ontology/cl.html"
   ]
  }
 ],
 "metadata": {
  "kernelspec": {
   "display_name": "Python 3",
   "language": "python",
   "name": "python3"
  },
  "language_info": {
   "codemirror_mode": {
    "name": "ipython",
    "version": 3
   },
   "file_extension": ".py",
   "mimetype": "text/x-python",
   "name": "python",
   "nbconvert_exporter": "python",
   "pygments_lexer": "ipython3",
   "version": "3.8.10 (default, Nov 14 2022, 12:59:47) \n[GCC 9.4.0]"
  },
  "vscode": {
   "interpreter": {
    "hash": "31f2aee4e71d21fbe5cf8b01ff0e069b9275f58929596ceb00d14d90e3e16cd6"
   }
  }
 },
 "nbformat": 4,
 "nbformat_minor": 5
}
