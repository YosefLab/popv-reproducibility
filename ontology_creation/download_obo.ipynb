{
 "cells": [
  {
   "cell_type": "code",
   "execution_count": 1,
   "id": "dried-vaccine",
   "metadata": {},
   "outputs": [],
   "source": [
    "import pandas as pd"
   ]
  },
  {
   "cell_type": "code",
   "execution_count": 3,
   "id": "quiet-bikini",
   "metadata": {},
   "outputs": [],
   "source": [
    "import obonet\n",
    "\n",
    "# Read the taxrank ontology\n",
    "graph = obonet.read_obo(\"cl.obo\")"
   ]
  },
  {
   "cell_type": "code",
   "execution_count": 11,
   "id": "c07aa6e0",
   "metadata": {},
   "outputs": [],
   "source": [
    "def make_celltype_to_cell_ontology_id_dict(cl_obo_file):\n",
    "    \"\"\"\n",
    "    Make celltype to ontology id dict and vice versa.\n",
    "\n",
    "    Parameters\n",
    "    ----------\n",
    "    cl_obo_file\n",
    "\n",
    "    Returns\n",
    "    -------\n",
    "    name2id\n",
    "        dictionary of celltype names to ontology id\n",
    "    id2name\n",
    "        dictionary of ontology id to celltype names\n",
    "    \"\"\"\n",
    "    co = obonet.read_obo(cl_obo_file, encoding=\"utf-8\")\n",
    "    id2name = {id_: data.get(\"name\") for id_, data in co.nodes(data=True)}\n",
    "    id2name = {k: v for k, v in id2name.items() if v is not None}\n",
    "    name2id = {v: k for k, v in id2name.items() if 'CL' in k}\n",
    "\n",
    "    return name2id, id2name"
   ]
  },
  {
   "cell_type": "code",
   "execution_count": 12,
   "id": "8f38a374",
   "metadata": {},
   "outputs": [],
   "source": [
    "name2id, id2name = make_celltype_to_cell_ontology_id_dict(\"cl.obo\")"
   ]
  },
  {
   "cell_type": "code",
   "execution_count": 15,
   "id": "53131560",
   "metadata": {},
   "outputs": [],
   "source": [
    "import pandas as pd\n",
    "pd.DataFrame.from_dict(name2id, orient='index').to_csv('celltype_to_ontology_id.csv')"
   ]
  },
  {
   "cell_type": "code",
   "execution_count": 14,
   "id": "35d8ac9d",
   "metadata": {},
   "outputs": [
    {
     "ename": "AttributeError",
     "evalue": "'dict' object has no attribute 'write_csv'",
     "output_type": "error",
     "traceback": [
      "\u001b[0;31m---------------------------------------------------------------------------\u001b[0m",
      "\u001b[0;31mAttributeError\u001b[0m                            Traceback (most recent call last)",
      "Cell \u001b[0;32mIn[14], line 1\u001b[0m\n\u001b[0;32m----> 1\u001b[0m name2id\u001b[39m.\u001b[39;49mwrite_csv(\u001b[39m'\u001b[39m\u001b[39mname2id.csv\u001b[39m\u001b[39m'\u001b[39m)\n",
      "\u001b[0;31mAttributeError\u001b[0m: 'dict' object has no attribute 'write_csv'"
     ]
    }
   ],
   "source": [
    "name2id.write_csv('name2id.csv')"
   ]
  },
  {
   "cell_type": "code",
   "execution_count": 6,
   "id": "5b7875ea",
   "metadata": {},
   "outputs": [],
   "source": [
    "children_edges = [i for i in graph.edges if 'is_a' in i]\n",
    "children_edge_celltype = [[i[0], i[1]] for i in children_edges if 'CL' in i[0] and 'CL' in i[1]]"
   ]
  },
  {
   "cell_type": "code",
   "execution_count": 7,
   "id": "healthy-coordinate",
   "metadata": {},
   "outputs": [],
   "source": [
    "children_edge_celltype_df = pd.DataFrame(children_edge_celltype)\n",
    "children_edge_celltype_df.to_csv('cl_new.ontology', sep='\\t', header=False, index=False)"
   ]
  }
 ],
 "metadata": {
  "kernelspec": {
   "display_name": "PopV",
   "language": "python",
   "name": "python3"
  },
  "language_info": {
   "codemirror_mode": {
    "name": "ipython",
    "version": 3
   },
   "file_extension": ".py",
   "mimetype": "text/x-python",
   "name": "python",
   "nbconvert_exporter": "python",
   "pygments_lexer": "ipython3",
   "version": "3.10.0"
  },
  "vscode": {
   "interpreter": {
    "hash": "ae9b7835f8811f2422472b7a077be27a1569af3ecea40a1678b81babec34df9c"
   }
  }
 },
 "nbformat": 4,
 "nbformat_minor": 5
}
