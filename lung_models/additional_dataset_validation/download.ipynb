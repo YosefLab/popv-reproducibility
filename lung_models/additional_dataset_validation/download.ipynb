{
 "cells": [
  {
   "cell_type": "code",
   "execution_count": null,
   "metadata": {},
   "outputs": [],
   "source": [
    "import\n",
    "\n",
    "adata = cellxgene(adata_url, filename=\"hlca_extended.h5ad\", save_path=\".\")"
   ]
  }
 ],
 "metadata": {
  "language_info": {
   "name": "python"
  },
  "orig_nbformat": 4
 },
 "nbformat": 4,
 "nbformat_minor": 2
}
