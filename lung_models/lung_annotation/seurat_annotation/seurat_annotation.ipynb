{
 "cells": [
  {
   "cell_type": "code",
   "execution_count": 1,
   "id": "collect-correction",
   "metadata": {
    "vscode": {
     "languageId": "r"
    }
   },
   "outputs": [
    {
     "name": "stderr",
     "output_type": "stream",
     "text": [
      "Attaching SeuratObject\n",
      "\n",
      "Warning message:\n",
      "“package ‘anndata’ was built under R version 4.2.1”\n"
     ]
    }
   ],
   "source": [
    "# Use Python [conda env:scrna_py_r]\n",
    "library(Seurat)\n",
    "library(anndata)"
   ]
  },
  {
   "cell_type": "code",
   "execution_count": 2,
   "id": "3fec3bca-78b5-4b72-8543-786aadd15c89",
   "metadata": {
    "collapsed": true,
    "jupyter": {
     "outputs_hidden": true
    },
    "tags": [],
    "vscode": {
     "languageId": "r"
    }
   },
   "outputs": [
    {
     "ename": "ERROR",
     "evalue": "Error in data$X: object of type 'closure' is not subsettable\n",
     "output_type": "error",
     "traceback": [
      "Error in data$X: object of type 'closure' is not subsettable\nTraceback:\n"
     ]
    }
   ],
   "source": [
    "data$X"
   ]
  },
  {
   "cell_type": "code",
   "execution_count": 3,
   "id": "9ea7f6db-98f4-48c5-ba35-024b51c13702",
   "metadata": {
    "vscode": {
     "languageId": "r"
    }
   },
   "outputs": [
    {
     "ename": "ERROR",
     "evalue": "Error in data$X: object of type 'closure' is not subsettable\n",
     "output_type": "error",
     "traceback": [
      "Error in data$X: object of type 'closure' is not subsettable\nTraceback:\n"
     ]
    }
   ],
   "source": [
    "base::t(data$X)"
   ]
  },
  {
   "cell_type": "code",
   "execution_count": 4,
   "id": "b2398654-167b-406b-8a9f-4aeae06b6cbe",
   "metadata": {
    "vscode": {
     "languageId": "r"
    }
   },
   "outputs": [
    {
     "name": "stderr",
     "output_type": "stream",
     "text": [
      "Warning message in asMethod(object):\n",
      "“sparse->dense coercion: allocating vector of size 12.2 GiB”\n",
      "Warning message:\n",
      "“Feature names cannot have underscores ('_'), replacing with dashes ('-')”\n"
     ]
    },
    {
     "name": "stdout",
     "output_type": "stream",
     "text": [
      "Formal class 'Seurat' [package \"SeuratObject\"] with 13 slots\n",
      "  ..@ assays      :List of 1\n",
      "  .. ..$ RNA:Formal class 'Assay' [package \"SeuratObject\"] with 8 slots\n",
      "  .. .. .. ..@ counts       :Formal class 'dgCMatrix' [package \"Matrix\"] with 6 slots\n",
      "  .. .. .. .. .. ..@ i       : int [1:133949682] 0 55 61 89 94 95 141 147 150 171 ...\n",
      "  .. .. .. .. .. ..@ p       : int [1:69651] 0 1275 2896 4008 5313 6452 8551 9434 10761 11982 ...\n",
      "  .. .. .. .. .. ..@ Dim     : int [1:2] 23507 69650\n",
      "  .. .. .. .. .. ..@ Dimnames:List of 2\n",
      "  .. .. .. .. .. .. ..$ : chr [1:23507] \"UBE2B\" \"CNST\" \"CYP4F35P\" \"SLC24A3\" ...\n",
      "  .. .. .. .. .. .. ..$ : chr [1:69650] \"P2_1_AAACCTGAGAAACCAT\" \"P2_1_AAATGCCAGATGAGAG\" \"P2_1_AACACGTTCGATCCCT\" \"P2_1_AACACGTTCGCACTCT\" ...\n",
      "  .. .. .. .. .. ..@ x       : num [1:133949682] 3 1 1 3 3 1 2 2 1 2 ...\n",
      "  .. .. .. .. .. ..@ factors : list()\n",
      "  .. .. .. ..@ data         :Formal class 'dgCMatrix' [package \"Matrix\"] with 6 slots\n",
      "  .. .. .. .. .. ..@ i       : int [1:133949682] 0 55 61 89 94 95 141 147 150 171 ...\n",
      "  .. .. .. .. .. ..@ p       : int [1:69651] 0 1275 2896 4008 5313 6452 8551 9434 10761 11982 ...\n",
      "  .. .. .. .. .. ..@ Dim     : int [1:2] 23507 69650\n",
      "  .. .. .. .. .. ..@ Dimnames:List of 2\n",
      "  .. .. .. .. .. .. ..$ : chr [1:23507] \"UBE2B\" \"CNST\" \"CYP4F35P\" \"SLC24A3\" ...\n",
      "  .. .. .. .. .. .. ..$ : chr [1:69650] \"P2_1_AAACCTGAGAAACCAT\" \"P2_1_AAATGCCAGATGAGAG\" \"P2_1_AACACGTTCGATCCCT\" \"P2_1_AACACGTTCGCACTCT\" ...\n",
      "  .. .. .. .. .. ..@ x       : num [1:133949682] 3 1 1 3 3 1 2 2 1 2 ...\n",
      "  .. .. .. .. .. ..@ factors : list()\n",
      "  .. .. .. ..@ scale.data   : num[0 , 0 ] \n",
      "  .. .. .. ..@ key          : chr \"rna_\"\n",
      "  .. .. .. ..@ assay.orig   : NULL\n",
      "  .. .. .. ..@ var.features : logi(0) \n",
      "  .. .. .. ..@ meta.features:'data.frame':\t23507 obs. of  0 variables\n",
      "  .. .. .. ..@ misc         : list()\n",
      "  ..@ meta.data   :'data.frame':\t69650 obs. of  11 variables:\n",
      "  .. ..$ orig.ident         : Factor w/ 1 level \"SeuratProject\": 1 1 1 1 1 1 1 1 1 1 ...\n",
      "  .. ..$ nCount_RNA         : num [1:69650] 2587 3469 1861 2951 2185 ...\n",
      "  .. ..$ nFeature_RNA       : int [1:69650] 1275 1621 1112 1305 1139 2099 883 1327 1221 1398 ...\n",
      "  .. ..$ paper_annotation   : Factor w/ 59 levels \"Adventitial Fibroblast\",..: 18 18 18 18 18 18 18 18 18 18 ...\n",
      "  .. ..$ donor_id           : Factor w/ 3 levels \"1\",\"2\",\"3\": 2 2 2 2 2 2 2 2 2 2 ...\n",
      "  .. ..$ sample             : Factor w/ 7 levels \"distal 1a\",\"distal 1b\",..: 3 3 3 3 3 3 3 3 3 3 ...\n",
      "  .. ..$ compartment        : Factor w/ 4 levels \"endothelial\",..: 1 1 1 1 1 1 1 1 1 1 ...\n",
      "  .. ..$ assay              : Factor w/ 2 levels \"10x 3' v2\",\"Smart-seq2\": 1 1 1 1 1 1 1 1 1 1 ...\n",
      "  .. ..$ tissue             : Factor w/ 1 level \"lung\": 1 1 1 1 1 1 1 1 1 1 ...\n",
      "  .. ..$ donor_assay        : Factor w/ 12 levels \"distal 1a_10x 3' v2\",..: 4 4 4 4 4 4 4 4 4 4 ...\n",
      "  .. ..$ cell_ontology_class: Factor w/ 39 levels \"B cell\",\"CD4-positive, alpha-beta T cell\",..: 5 5 5 5 5 5 5 5 5 5 ...\n",
      "  ..@ active.assay: chr \"RNA\"\n",
      "  ..@ active.ident: Factor w/ 1 level \"SeuratProject\": 1 1 1 1 1 1 1 1 1 1 ...\n",
      "  .. ..- attr(*, \"names\")= chr [1:69650] \"P2_1_AAACCTGAGAAACCAT\" \"P2_1_AAATGCCAGATGAGAG\" \"P2_1_AACACGTTCGATCCCT\" \"P2_1_AACACGTTCGCACTCT\" ...\n",
      "  ..@ graphs      : list()\n",
      "  ..@ neighbors   : list()\n",
      "  ..@ reductions  : list()\n",
      "  ..@ images      : list()\n",
      "  ..@ project.name: chr \"SeuratProject\"\n",
      "  ..@ misc        : list()\n",
      "  ..@ version     :Classes 'package_version', 'numeric_version'  hidden list of 1\n",
      "  .. ..$ : int [1:3] 4 1 3\n",
      "  ..@ commands    : list()\n",
      "  ..@ tools       : list()\n",
      "NULL\n"
     ]
    }
   ],
   "source": [
    "data <- read_h5ad(\"../lung_query_construction/sub_LCA.h5ad\")\n",
    "query <- CreateSeuratObject(counts = t(as.matrix(data$X)), meta.data = data$obs)\n",
    "print(str(query))"
   ]
  },
  {
   "cell_type": "code",
   "execution_count": 5,
   "id": "ec52ad2f-d61e-4f0d-a933-6ecb627c3fcd",
   "metadata": {
    "vscode": {
     "languageId": "r"
    }
   },
   "outputs": [
    {
     "name": "stderr",
     "output_type": "stream",
     "text": [
      "Warning message in asMethod(object):\n",
      "“sparse->dense coercion: allocating vector of size 15.6 GiB”\n",
      "Warning message:\n",
      "“Feature names cannot have underscores ('_'), replacing with dashes ('-')”\n"
     ]
    },
    {
     "name": "stdout",
     "output_type": "stream",
     "text": [
      "Formal class 'Seurat' [package \"SeuratObject\"] with 13 slots\n",
      "  ..@ assays      :List of 1\n",
      "  .. ..$ RNA:Formal class 'Assay' [package \"SeuratObject\"] with 8 slots\n",
      "  .. .. .. ..@ counts       :Formal class 'dgCMatrix' [package \"Matrix\"] with 6 slots\n",
      "  .. .. .. .. .. ..@ i       : int [1:119130448] 33 38 65 66 69 85 86 89 94 98 ...\n",
      "  .. .. .. .. .. ..@ p       : int [1:35673] 0 7417 13156 15574 19656 25030 30768 36513 37606 38782 ...\n",
      "  .. .. .. .. .. ..@ Dim     : int [1:2] 58559 35672\n",
      "  .. .. .. .. .. ..@ Dimnames:List of 2\n",
      "  .. .. .. .. .. .. ..$ : chr [1:58559] \"DDX11L1\" \"WASH7P\" \"MIR6859-1\" \"MIR1302-2HG\" ...\n",
      "  .. .. .. .. .. .. ..$ : chr [1:35672] \"AAACCCAAGAACTCCT_TSP14_Lung_Distal_10X_1_1\" \"AAACGAAAGGAGCTGT_TSP14_Lung_Distal_10X_1_1\" \"AAACGAACACGCGTGT_TSP14_Lung_Distal_10X_1_1\" \"AAACGAACATGCCGCA_TSP14_Lung_Distal_10X_1_1\" ...\n",
      "  .. .. .. .. .. ..@ x       : num [1:119130448] 1 12 2 2 3 5 1 4 2 3 ...\n",
      "  .. .. .. .. .. ..@ factors : list()\n",
      "  .. .. .. ..@ data         :Formal class 'dgCMatrix' [package \"Matrix\"] with 6 slots\n",
      "  .. .. .. .. .. ..@ i       : int [1:119130448] 33 38 65 66 69 85 86 89 94 98 ...\n",
      "  .. .. .. .. .. ..@ p       : int [1:35673] 0 7417 13156 15574 19656 25030 30768 36513 37606 38782 ...\n",
      "  .. .. .. .. .. ..@ Dim     : int [1:2] 58559 35672\n",
      "  .. .. .. .. .. ..@ Dimnames:List of 2\n",
      "  .. .. .. .. .. .. ..$ : chr [1:58559] \"DDX11L1\" \"WASH7P\" \"MIR6859-1\" \"MIR1302-2HG\" ...\n",
      "  .. .. .. .. .. .. ..$ : chr [1:35672] \"AAACCCAAGAACTCCT_TSP14_Lung_Distal_10X_1_1\" \"AAACGAAAGGAGCTGT_TSP14_Lung_Distal_10X_1_1\" \"AAACGAACACGCGTGT_TSP14_Lung_Distal_10X_1_1\" \"AAACGAACATGCCGCA_TSP14_Lung_Distal_10X_1_1\" ...\n",
      "  .. .. .. .. .. ..@ x       : num [1:119130448] 1 12 2 2 3 5 1 4 2 3 ...\n",
      "  .. .. .. .. .. ..@ factors : list()\n",
      "  .. .. .. ..@ scale.data   : num[0 , 0 ] \n",
      "  .. .. .. ..@ key          : chr \"rna_\"\n",
      "  .. .. .. ..@ assay.orig   : NULL\n",
      "  .. .. .. ..@ var.features : logi(0) \n",
      "  .. .. .. ..@ meta.features:'data.frame':\t58559 obs. of  0 variables\n",
      "  .. .. .. ..@ misc         : list()\n",
      "  ..@ meta.data   :'data.frame':\t35672 obs. of  17 variables:\n",
      "  .. ..$ orig.ident                : Factor w/ 1 level \"SeuratProject\": 1 1 1 1 1 1 1 1 1 1 ...\n",
      "  .. ..$ nCount_RNA                : num [1:35672] 58234 30829 6367 25541 31539 ...\n",
      "  .. ..$ nFeature_RNA              : int [1:35672] 7417 5739 2418 4082 5374 5738 5745 1093 1176 5364 ...\n",
      "  .. ..$ tissue_in_publication     : Factor w/ 1 level \"Lung\": 1 1 1 1 1 1 1 1 1 1 ...\n",
      "  .. ..$ donor_id                  : Factor w/ 3 levels \"TSP1\",\"TSP2\",..: 3 3 3 3 3 3 3 3 3 3 ...\n",
      "  .. ..$ free_annotation           : Factor w/ 39 levels \"Bronchial vessel endothelial cell\",..: 37 37 37 37 37 37 37 25 10 37 ...\n",
      "  .. ..$ compartment               : Factor w/ 4 levels \"endothelial\",..: 2 2 2 2 2 2 2 3 3 2 ...\n",
      "  .. ..$ cell_type_ontology_term_id: Factor w/ 36 levels \"CL:0000057\",\"CL:0000071\",..: 24 24 24 24 24 24 24 15 21 24 ...\n",
      "  .. ..$ cell_type                 : Factor w/ 36 levels \"fibroblast\",\"blood vessel endothelial cell\",..: 24 24 24 24 24 24 24 15 21 24 ...\n",
      "  .. ..$ assay                     : Factor w/ 2 levels \"Smart-seq2\",\"10x 3' v3\": 2 2 2 2 2 2 2 2 2 2 ...\n",
      "  .. ..$ sex                       : Factor w/ 2 levels \"female\",\"male\": 2 2 2 2 2 2 2 2 2 2 ...\n",
      "  .. ..$ tissue                    : Factor w/ 1 level \"lung\": 1 1 1 1 1 1 1 1 1 1 ...\n",
      "  .. ..$ cell_ontology_class       : Factor w/ 36 levels \"B cell\",\"CD4-positive, alpha-beta T cell\",..: 34 34 34 34 34 34 34 24 13 34 ...\n",
      "  .. ..$ cell_ontology_class_tissue: Factor w/ 36 levels \"Lung_B cell\",..: 34 34 34 34 34 34 34 24 13 34 ...\n",
      "  .. ..$ donor_tissue              : Factor w/ 3 levels \"TSP1_Lung\",\"TSP2_Lung\",..: 3 3 3 3 3 3 3 3 3 3 ...\n",
      "  .. ..$ assay_correct             : Factor w/ 2 levels \"10x 3' v3\",\"Smart-seq2\": 1 1 1 1 1 1 1 1 1 1 ...\n",
      "  .. ..$ donor_assay               : Factor w/ 5 levels \"TSP1_10x 3' v3\",..: 5 5 5 5 5 5 5 5 5 5 ...\n",
      "  ..@ active.assay: chr \"RNA\"\n",
      "  ..@ active.ident: Factor w/ 1 level \"SeuratProject\": 1 1 1 1 1 1 1 1 1 1 ...\n",
      "  .. ..- attr(*, \"names\")= chr [1:35672] \"AAACCCAAGAACTCCT_TSP14_Lung_Distal_10X_1_1\" \"AAACGAAAGGAGCTGT_TSP14_Lung_Distal_10X_1_1\" \"AAACGAACACGCGTGT_TSP14_Lung_Distal_10X_1_1\" \"AAACGAACATGCCGCA_TSP14_Lung_Distal_10X_1_1\" ...\n",
      "  ..@ graphs      : list()\n",
      "  ..@ neighbors   : list()\n",
      "  ..@ reductions  : list()\n",
      "  ..@ images      : list()\n",
      "  ..@ project.name: chr \"SeuratProject\"\n",
      "  ..@ misc        : list()\n",
      "  ..@ version     :Classes 'package_version', 'numeric_version'  hidden list of 1\n",
      "  .. ..$ : int [1:3] 4 1 3\n",
      "  ..@ commands    : list()\n",
      "  ..@ tools       : list()\n",
      "NULL\n"
     ]
    }
   ],
   "source": [
    "data <- read_h5ad(\"TS_Lung.h5ad\")\n",
    "ref <- CreateSeuratObject(counts = t(as.matrix(data$X)), meta.data = data$obs)\n",
    "print(str(ref))"
   ]
  },
  {
   "cell_type": "markdown",
   "id": "seventh-selection",
   "metadata": {},
   "source": [
    "# Integrate TS Lung Data"
   ]
  },
  {
   "cell_type": "code",
   "execution_count": 6,
   "id": "wanted-stroke",
   "metadata": {
    "vscode": {
     "languageId": "r"
    }
   },
   "outputs": [],
   "source": [
    "dat.list <- SplitObject(ref, split.by = \"donor_assay\")"
   ]
  },
  {
   "cell_type": "code",
   "execution_count": 7,
   "id": "organizational-worry",
   "metadata": {
    "vscode": {
     "languageId": "r"
    }
   },
   "outputs": [
    {
     "data": {
      "text/plain": [
       "$`TSP14_10x 3' v3`\n",
       "An object of class Seurat \n",
       "58559 features across 4350 samples within 1 assay \n",
       "Active assay: RNA (58559 features, 0 variable features)\n",
       "\n",
       "$`TSP1_10x 3' v3`\n",
       "An object of class Seurat \n",
       "58559 features across 12507 samples within 1 assay \n",
       "Active assay: RNA (58559 features, 0 variable features)\n",
       "\n",
       "$`TSP1_Smart-seq2`\n",
       "An object of class Seurat \n",
       "58559 features across 689 samples within 1 assay \n",
       "Active assay: RNA (58559 features, 0 variable features)\n",
       "\n",
       "$`TSP2_10x 3' v3`\n",
       "An object of class Seurat \n",
       "58559 features across 17225 samples within 1 assay \n",
       "Active assay: RNA (58559 features, 0 variable features)\n",
       "\n",
       "$`TSP2_Smart-seq2`\n",
       "An object of class Seurat \n",
       "58559 features across 901 samples within 1 assay \n",
       "Active assay: RNA (58559 features, 0 variable features)\n"
      ]
     },
     "metadata": {},
     "output_type": "display_data"
    }
   ],
   "source": [
    "dat.list"
   ]
  },
  {
   "cell_type": "code",
   "execution_count": 8,
   "id": "seven-steel",
   "metadata": {
    "vscode": {
     "languageId": "r"
    }
   },
   "outputs": [],
   "source": [
    "for (i in 1:length(dat.list)) {\n",
    "    dat.list[[i]] <- NormalizeData(dat.list[[i]], verbose = TRUE)\n",
    "    dat.list[[i]] <- FindVariableFeatures(dat.list[[i]], selection.method = \"vst\", nfeatures = 2000,\n",
    "        verbose = TRUE)\n",
    "}"
   ]
  },
  {
   "cell_type": "code",
   "execution_count": 9,
   "id": "aging-pregnancy",
   "metadata": {
    "vscode": {
     "languageId": "r"
    }
   },
   "outputs": [
    {
     "name": "stderr",
     "output_type": "stream",
     "text": [
      "Computing 2000 integration features\n",
      "\n",
      "Scaling features for provided objects\n",
      "\n",
      "Finding all pairwise anchors\n",
      "\n",
      "Running CCA\n",
      "\n",
      "Merging objects\n",
      "\n",
      "Finding neighborhoods\n",
      "\n",
      "Finding anchors\n",
      "\n",
      "\tFound 11400 anchors\n",
      "\n",
      "Filtering anchors\n",
      "\n",
      "\tRetained 1676 anchors\n",
      "\n",
      "Running CCA\n",
      "\n",
      "Merging objects\n",
      "\n",
      "Finding neighborhoods\n",
      "\n",
      "Finding anchors\n",
      "\n",
      "\tFound 1860 anchors\n",
      "\n",
      "Filtering anchors\n",
      "\n",
      "\tRetained 1435 anchors\n",
      "\n",
      "Running CCA\n",
      "\n",
      "Merging objects\n",
      "\n",
      "Finding neighborhoods\n",
      "\n",
      "Finding anchors\n",
      "\n",
      "\tFound 2321 anchors\n",
      "\n",
      "Filtering anchors\n",
      "\n",
      "\tRetained 2113 anchors\n",
      "\n",
      "Running CCA\n",
      "\n",
      "Merging objects\n",
      "\n",
      "Finding neighborhoods\n",
      "\n",
      "Finding anchors\n",
      "\n",
      "\tFound 12425 anchors\n",
      "\n",
      "Filtering anchors\n",
      "\n",
      "\tRetained 1935 anchors\n",
      "\n",
      "Running CCA\n",
      "\n",
      "Merging objects\n",
      "\n",
      "Finding neighborhoods\n",
      "\n",
      "Finding anchors\n",
      "\n",
      "\tFound 18751 anchors\n",
      "\n",
      "Filtering anchors\n",
      "\n",
      "\tRetained 5048 anchors\n",
      "\n",
      "Running CCA\n",
      "\n",
      "Merging objects\n",
      "\n",
      "Finding neighborhoods\n",
      "\n",
      "Finding anchors\n",
      "\n",
      "\tFound 2705 anchors\n",
      "\n",
      "Filtering anchors\n",
      "\n",
      "\tRetained 1327 anchors\n",
      "\n",
      "Running CCA\n",
      "\n",
      "Merging objects\n",
      "\n",
      "Finding neighborhoods\n",
      "\n",
      "Finding anchors\n",
      "\n",
      "\tFound 3031 anchors\n",
      "\n",
      "Filtering anchors\n",
      "\n",
      "\tRetained 1488 anchors\n",
      "\n",
      "Running CCA\n",
      "\n",
      "Merging objects\n",
      "\n",
      "Finding neighborhoods\n",
      "\n",
      "Finding anchors\n",
      "\n",
      "\tFound 3307 anchors\n",
      "\n",
      "Filtering anchors\n",
      "\n",
      "\tRetained 2254 anchors\n",
      "\n",
      "Running CCA\n",
      "\n",
      "Merging objects\n",
      "\n",
      "Finding neighborhoods\n",
      "\n",
      "Finding anchors\n",
      "\n",
      "\tFound 1766 anchors\n",
      "\n",
      "Filtering anchors\n",
      "\n",
      "\tRetained 1596 anchors\n",
      "\n",
      "Running CCA\n",
      "\n",
      "Merging objects\n",
      "\n",
      "Finding neighborhoods\n",
      "\n",
      "Finding anchors\n",
      "\n",
      "\tFound 3399 anchors\n",
      "\n",
      "Filtering anchors\n",
      "\n",
      "\tRetained 2980 anchors\n",
      "\n"
     ]
    }
   ],
   "source": [
    "dat.anchors <- FindIntegrationAnchors(object.list = dat.list, dims = 1:30)"
   ]
  },
  {
   "cell_type": "code",
   "execution_count": 10,
   "id": "organizational-pharmaceutical",
   "metadata": {
    "vscode": {
     "languageId": "r"
    }
   },
   "outputs": [
    {
     "name": "stderr",
     "output_type": "stream",
     "text": [
      "Merging dataset 5 into 4\n",
      "\n",
      "Extracting anchors for merged samples\n",
      "\n",
      "Finding integration vectors\n",
      "\n",
      "Finding integration vector weights\n",
      "\n",
      "Integrating data\n",
      "\n",
      "Merging dataset 3 into 2\n",
      "\n",
      "Extracting anchors for merged samples\n",
      "\n",
      "Finding integration vectors\n",
      "\n",
      "Finding integration vector weights\n",
      "\n",
      "Integrating data\n",
      "\n",
      "Merging dataset 1 into 4 5\n",
      "\n",
      "Extracting anchors for merged samples\n",
      "\n",
      "Finding integration vectors\n",
      "\n",
      "Finding integration vector weights\n",
      "\n",
      "Integrating data\n",
      "\n",
      "Merging dataset 2 3 into 4 5 1\n",
      "\n",
      "Extracting anchors for merged samples\n",
      "\n",
      "Finding integration vectors\n",
      "\n",
      "Finding integration vector weights\n",
      "\n",
      "Integrating data\n",
      "\n"
     ]
    }
   ],
   "source": [
    "dat.integrated <- IntegrateData(anchorset = dat.anchors, dims = 1:30)\n"
   ]
  },
  {
   "cell_type": "code",
   "execution_count": 11,
   "id": "congressional-charge",
   "metadata": {
    "vscode": {
     "languageId": "r"
    }
   },
   "outputs": [
    {
     "data": {
      "text/plain": [
       "An object of class Seurat \n",
       "60559 features across 35672 samples within 2 assays \n",
       "Active assay: integrated (2000 features, 2000 variable features)\n",
       " 1 other assay present: RNA"
      ]
     },
     "metadata": {},
     "output_type": "display_data"
    }
   ],
   "source": [
    "dat.integrated"
   ]
  },
  {
   "cell_type": "code",
   "execution_count": 12,
   "id": "bc7eb7cc-939a-41c9-b6c3-4a7348241cc3",
   "metadata": {
    "vscode": {
     "languageId": "r"
    }
   },
   "outputs": [],
   "source": [
    "saveRDS(dat.integrated, file = \"ts_lung_integrated.rds\")"
   ]
  },
  {
   "cell_type": "code",
   "execution_count": 13,
   "id": "eleven-glucose",
   "metadata": {
    "vscode": {
     "languageId": "r"
    }
   },
   "outputs": [],
   "source": [
    "dat.integrated <- ScaleData(dat.integrated, verbose = FALSE)\n",
    "dat.integrated <- RunPCA(dat.integrated, npcs = 30, verbose = FALSE)"
   ]
  },
  {
   "cell_type": "markdown",
   "id": "phantom-myanmar",
   "metadata": {},
   "source": [
    "# Integrate LCA data batches"
   ]
  },
  {
   "cell_type": "code",
   "execution_count": 14,
   "id": "temporal-hearts",
   "metadata": {
    "vscode": {
     "languageId": "r"
    }
   },
   "outputs": [
    {
     "data": {
      "text/plain": [
       "An object of class Seurat \n",
       "23507 features across 69650 samples within 1 assay \n",
       "Active assay: RNA (23507 features, 0 variable features)"
      ]
     },
     "metadata": {},
     "output_type": "display_data"
    }
   ],
   "source": [
    "query"
   ]
  },
  {
   "cell_type": "code",
   "execution_count": 16,
   "id": "convenient-joshua",
   "metadata": {
    "vscode": {
     "languageId": "r"
    }
   },
   "outputs": [],
   "source": [
    "lca <- query"
   ]
  },
  {
   "cell_type": "code",
   "execution_count": 29,
   "id": "consolidated-landing",
   "metadata": {
    "vscode": {
     "languageId": "r"
    }
   },
   "outputs": [],
   "source": [
    "lca.list <- SplitObject(lca, split.by = \"donor_assay\")"
   ]
  },
  {
   "cell_type": "code",
   "execution_count": 30,
   "id": "combined-opera",
   "metadata": {
    "vscode": {
     "languageId": "r"
    }
   },
   "outputs": [],
   "source": [
    "lca.list <- lapply(X = lca.list, FUN = NormalizeData, verbose = FALSE)\n"
   ]
  },
  {
   "cell_type": "code",
   "execution_count": 31,
   "id": "employed-clause",
   "metadata": {
    "vscode": {
     "languageId": "r"
    }
   },
   "outputs": [],
   "source": [
    "lca.list <- lapply(X = lca.list,\n",
    "                   FUN=FindVariableFeatures, \n",
    "                   selection.method = \"vst\", \n",
    "                   nfeatures = 2000,\n",
    "                   verbose = TRUE)"
   ]
  },
  {
   "cell_type": "code",
   "execution_count": 32,
   "id": "driven-functionality",
   "metadata": {
    "vscode": {
     "languageId": "r"
    }
   },
   "outputs": [],
   "source": [
    "lca.list <- lapply(X = lca.list, FUN = ScaleData, verbose=FALSE)"
   ]
  },
  {
   "cell_type": "code",
   "execution_count": 33,
   "id": "frank-words",
   "metadata": {
    "vscode": {
     "languageId": "r"
    }
   },
   "outputs": [],
   "source": [
    "lca.list <- lapply(X = lca.list, FUN = RunPCA, npcs=30, verbose=FALSE)"
   ]
  },
  {
   "cell_type": "code",
   "execution_count": null,
   "id": "registered-findings",
   "metadata": {
    "vscode": {
     "languageId": "r"
    }
   },
   "outputs": [],
   "source": [
    "anchors <- list()\n",
    "for (i in 1:length(lca.list)) {\n",
    "  anchors[[i]] <- FindTransferAnchors(\n",
    "      reference = dat.integrated, \n",
    "      query = lca.list[[i]],\n",
    "      dims = 1:30,\n",
    "      k.filter = NA,\n",
    "      reference.reduction = \"pca\")\n",
    "}"
   ]
  },
  {
   "cell_type": "code",
   "execution_count": 35,
   "id": "aerial-burns",
   "metadata": {
    "collapsed": true,
    "jupyter": {
     "outputs_hidden": true
    },
    "tags": [],
    "vscode": {
     "languageId": "r"
    }
   },
   "outputs": [
    {
     "name": "stderr",
     "output_type": "stream",
     "text": [
      "Finding integration vectors\n",
      "\n",
      "Finding integration vector weights\n",
      "\n",
      "Predicting cell labels\n",
      "\n",
      "Finding integration vectors\n",
      "\n",
      "Finding integration vector weights\n",
      "\n",
      "Predicting cell labels\n",
      "\n",
      "Finding integration vectors\n",
      "\n",
      "Finding integration vector weights\n",
      "\n",
      "Predicting cell labels\n",
      "\n",
      "Finding integration vectors\n",
      "\n",
      "Finding integration vector weights\n",
      "\n",
      "Predicting cell labels\n",
      "\n",
      "Finding integration vectors\n",
      "\n",
      "Finding integration vector weights\n",
      "\n",
      "Predicting cell labels\n",
      "\n",
      "Finding integration vectors\n",
      "\n",
      "Finding integration vector weights\n",
      "\n",
      "Predicting cell labels\n",
      "\n",
      "Finding integration vectors\n",
      "\n",
      "Finding integration vector weights\n",
      "\n",
      "Predicting cell labels\n",
      "\n",
      "Finding integration vectors\n",
      "\n",
      "Finding integration vector weights\n",
      "\n",
      "Predicting cell labels\n",
      "\n",
      "Finding integration vectors\n",
      "\n",
      "Finding integration vector weights\n",
      "\n",
      "Predicting cell labels\n",
      "\n",
      "Finding integration vectors\n",
      "\n",
      "Finding integration vector weights\n",
      "\n",
      "Predicting cell labels\n",
      "\n",
      "Finding integration vectors\n",
      "\n",
      "Finding integration vector weights\n",
      "\n",
      "Predicting cell labels\n",
      "\n",
      "Finding integration vectors\n",
      "\n",
      "Finding integration vector weights\n",
      "\n",
      "Predicting cell labels\n",
      "\n"
     ]
    }
   ],
   "source": [
    "predictions <- list()\n",
    "for (i in 1:length(lca.list)) {\n",
    "  predictions[[i]] <- TransferData(\n",
    "      anchorset = anchors[[i]], \n",
    "      refdata = dat.integrated$cell_ontology_class,\n",
    "      dims = 1:30)\n",
    "}"
   ]
  },
  {
   "cell_type": "code",
   "execution_count": 36,
   "id": "popular-bolivia",
   "metadata": {
    "vscode": {
     "languageId": "r"
    }
   },
   "outputs": [
    {
     "name": "stderr",
     "output_type": "stream",
     "text": [
      "\n",
      "Attaching package: ‘dplyr’\n",
      "\n",
      "\n",
      "The following objects are masked from ‘package:stats’:\n",
      "\n",
      "    filter, lag\n",
      "\n",
      "\n",
      "The following objects are masked from ‘package:base’:\n",
      "\n",
      "    intersect, setdiff, setequal, union\n",
      "\n",
      "\n"
     ]
    }
   ],
   "source": [
    "library(dplyr)\n",
    "all_predictions <-bind_rows(predictions)"
   ]
  },
  {
   "cell_type": "code",
   "execution_count": 44,
   "id": "weekly-completion",
   "metadata": {
    "vscode": {
     "languageId": "r"
    }
   },
   "outputs": [
    {
     "data": {
      "text/html": [
       "<style>\n",
       ".list-inline {list-style: none; margin:0; padding: 0}\n",
       ".list-inline>li {display: inline-block}\n",
       ".list-inline>li:not(:last-child)::after {content: \"\\00b7\"; padding: 0 .5ex}\n",
       "</style>\n",
       "<ol class=list-inline><li>69650</li><li>38</li></ol>\n"
      ],
      "text/latex": [
       "\\begin{enumerate*}\n",
       "\\item 69650\n",
       "\\item 38\n",
       "\\end{enumerate*}\n"
      ],
      "text/markdown": [
       "1. 69650\n",
       "2. 38\n",
       "\n",
       "\n"
      ],
      "text/plain": [
       "[1] 69650    38"
      ]
     },
     "metadata": {},
     "output_type": "display_data"
    }
   ],
   "source": [
    "dim(all_predictions)"
   ]
  },
  {
   "cell_type": "code",
   "execution_count": 45,
   "id": "hungry-parameter",
   "metadata": {
    "vscode": {
     "languageId": "r"
    }
   },
   "outputs": [],
   "source": [
    "write.csv(all_predictions, \"seurat_predictions.csv\")"
   ]
  },
  {
   "cell_type": "code",
   "execution_count": null,
   "id": "baking-humanitarian",
   "metadata": {
    "vscode": {
     "languageId": "r"
    }
   },
   "outputs": [],
   "source": []
  }
 ],
 "metadata": {
  "kernelspec": {
   "display_name": "R_seurat",
   "language": "R",
   "name": "r_seurat"
  },
  "language_info": {
   "codemirror_mode": "r",
   "file_extension": ".r",
   "mimetype": "text/x-r-source",
   "name": "R",
   "pygments_lexer": "r",
   "version": "4.2.0"
  },
  "vscode": {
   "interpreter": {
    "hash": "2857c5ccaeec11a91bf0740c805f8116a28aeae80e092559ee2c033b5bd2ef23"
   }
  }
 },
 "nbformat": 4,
 "nbformat_minor": 5
}
