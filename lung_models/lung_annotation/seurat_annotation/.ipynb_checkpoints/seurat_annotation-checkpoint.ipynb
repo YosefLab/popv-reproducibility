{
 "cells": [
  {
   "cell_type": "code",
   "execution_count": null,
   "id": "collect-correction",
   "metadata": {},
   "outputs": [
    {
     "ename": "",
     "evalue": "",
     "output_type": "error",
     "traceback": [
      "\u001b[1;31mFailed to start the Kernel. \n",
      "\u001b[1;31munknown option --slave\n",
      "\u001b[1;31musage: /home/cane/miniconda3/envs/seurat_popv/bin/python [option] ... [-c cmd | -m mod | file | -] [arg] ...\n",
      "\u001b[1;31mTry `python -h' for more information. \n",
      "\u001b[1;31mView Jupyter <a href='command:jupyter.viewOutput'>log</a> for further details."
     ]
    }
   ],
   "source": [
    "# Use Python [conda env:scrna_py_r]\n",
    "library(Seurat)\n",
    "library(SeuratDisk)"
   ]
  },
  {
   "cell_type": "code",
   "execution_count": 3,
   "id": "improved-practice",
   "metadata": {},
   "outputs": [
    {
     "name": "stderr",
     "output_type": "stream",
     "text": [
      "Validating h5Seurat file\n",
      "\n"
     ]
    }
   ],
   "source": [
    "hfile <- Connect(\"../../data/paper/lung_eval/TSP1_TSP15_lung.h5seurat\")"
   ]
  },
  {
   "cell_type": "code",
   "execution_count": 4,
   "id": "comprehensive-romania",
   "metadata": {},
   "outputs": [
    {
     "data": {
      "text/plain": [
       "Class: h5Seurat\n",
       "Filename: /home/galen/ts_annotation/data/paper/lung_eval/TSP1_TSP15_lung.h5seurat\n",
       "Access type: H5F_ACC_RDONLY\n",
       "Attributes: version, active.assay, project\n",
       "Listing:\n",
       "         name    obj_type dataset.dims dataset.type_class\n",
       " active.ident   H5I_GROUP         <NA>               <NA>\n",
       "       assays   H5I_GROUP         <NA>               <NA>\n",
       "   cell.names H5I_DATASET        35682         H5T_STRING\n",
       "     commands   H5I_GROUP         <NA>               <NA>\n",
       "       graphs   H5I_GROUP         <NA>               <NA>\n",
       "       images   H5I_GROUP         <NA>               <NA>\n",
       "    meta.data   H5I_GROUP         <NA>               <NA>\n",
       "         misc   H5I_GROUP         <NA>               <NA>\n",
       "    neighbors   H5I_GROUP         <NA>               <NA>\n",
       "   reductions   H5I_GROUP         <NA>               <NA>\n",
       "< Printed 10, out of 11>"
      ]
     },
     "metadata": {},
     "output_type": "display_data"
    }
   ],
   "source": [
    "hfile"
   ]
  },
  {
   "cell_type": "code",
   "execution_count": 5,
   "id": "wired-cartridge",
   "metadata": {},
   "outputs": [
    {
     "data": {
      "text/html": [
       "<dl>\n",
       "\t<dt>$RNA</dt>\n",
       "\t\t<dd><strong>$slots</strong> = <style>\n",
       ".dl-inline {width: auto; margin:0; padding: 0}\n",
       ".dl-inline>dt, .dl-inline>dd {float: none; width: auto; display: inline-block}\n",
       ".dl-inline>dt::after {content: \":\\0020\"; padding-right: .5ex}\n",
       ".dl-inline>dt:not(:first-of-type) {padding-left: .5ex}\n",
       "</style><dl class=dl-inline><dt>counts</dt><dd>TRUE</dd><dt>data</dt><dd>TRUE</dd><dt>scale.data</dt><dd>FALSE</dd></dl>\n",
       "</dd>\n",
       "\t<dt>$decontXcounts</dt>\n",
       "\t\t<dd><strong>$slots</strong> = <style>\n",
       ".dl-inline {width: auto; margin:0; padding: 0}\n",
       ".dl-inline>dt, .dl-inline>dd {float: none; width: auto; display: inline-block}\n",
       ".dl-inline>dt::after {content: \":\\0020\"; padding-right: .5ex}\n",
       ".dl-inline>dt:not(:first-of-type) {padding-left: .5ex}\n",
       "</style><dl class=dl-inline><dt>counts</dt><dd>TRUE</dd><dt>data</dt><dd>TRUE</dd><dt>scale.data</dt><dd>FALSE</dd></dl>\n",
       "</dd>\n",
       "\t<dt>$raw_counts</dt>\n",
       "\t\t<dd><strong>$slots</strong> = <style>\n",
       ".dl-inline {width: auto; margin:0; padding: 0}\n",
       ".dl-inline>dt, .dl-inline>dd {float: none; width: auto; display: inline-block}\n",
       ".dl-inline>dt::after {content: \":\\0020\"; padding-right: .5ex}\n",
       ".dl-inline>dt:not(:first-of-type) {padding-left: .5ex}\n",
       "</style><dl class=dl-inline><dt>counts</dt><dd>TRUE</dd><dt>data</dt><dd>TRUE</dd><dt>scale.data</dt><dd>FALSE</dd></dl>\n",
       "</dd>\n",
       "\t<dt>$global</dt>\n",
       "\t\t<dd><strong>$neighbors</strong> = </dd>\n",
       "</dl>\n"
      ],
      "text/latex": [
       "\\begin{description}\n",
       "\\item[\\$RNA] \\textbf{\\$slots} = \\begin{description*}\n",
       "\\item[counts] TRUE\n",
       "\\item[data] TRUE\n",
       "\\item[scale.data] FALSE\n",
       "\\end{description*}\n",
       "\n",
       "\\item[\\$decontXcounts] \\textbf{\\$slots} = \\begin{description*}\n",
       "\\item[counts] TRUE\n",
       "\\item[data] TRUE\n",
       "\\item[scale.data] FALSE\n",
       "\\end{description*}\n",
       "\n",
       "\\item[\\$raw\\_counts] \\textbf{\\$slots} = \\begin{description*}\n",
       "\\item[counts] TRUE\n",
       "\\item[data] TRUE\n",
       "\\item[scale.data] FALSE\n",
       "\\end{description*}\n",
       "\n",
       "\\item[\\$global] \\textbf{\\$neighbors} = \n",
       "\\end{description}\n"
      ],
      "text/markdown": [
       "$RNA\n",
       ":   **$slots** = counts\n",
       ":   TRUEdata\n",
       ":   TRUEscale.data\n",
       ":   FALSE\n",
       "\n",
       "\n",
       "$decontXcounts\n",
       ":   **$slots** = counts\n",
       ":   TRUEdata\n",
       ":   TRUEscale.data\n",
       ":   FALSE\n",
       "\n",
       "\n",
       "$raw_counts\n",
       ":   **$slots** = counts\n",
       ":   TRUEdata\n",
       ":   TRUEscale.data\n",
       ":   FALSE\n",
       "\n",
       "\n",
       "$global\n",
       ":   **$neighbors** = \n",
       "\n",
       "\n"
      ],
      "text/plain": [
       "Data for assay RNA\u001b[33m★\u001b[39m (default assay)\n",
       "   counts      data    scale.data\n",
       "     \u001b[32m✔\u001b[39m          \u001b[32m✔\u001b[39m          \u001b[31m✖\u001b[39m     \n",
       "Data for assay decontXcounts\n",
       "   counts      data    scale.data\n",
       "     \u001b[32m✔\u001b[39m          \u001b[32m✔\u001b[39m          \u001b[31m✖\u001b[39m     \n",
       "Data for assay raw_counts\n",
       "   counts      data    scale.data\n",
       "     \u001b[32m✔\u001b[39m          \u001b[32m✔\u001b[39m          \u001b[31m✖\u001b[39m     "
      ]
     },
     "metadata": {},
     "output_type": "display_data"
    }
   ],
   "source": [
    "hfile$index()\n"
   ]
  },
  {
   "cell_type": "code",
   "execution_count": 6,
   "id": "desirable-dating",
   "metadata": {},
   "outputs": [
    {
     "data": {
      "text/plain": [
       "Class: H5Group\n",
       "Filename: /home/galen/ts_annotation/data/paper/lung_eval/TSP1_TSP15_lung.h5seurat\n",
       "Group: /assays\n",
       "Listing:\n",
       "          name  obj_type dataset.dims dataset.type_class\n",
       "           RNA H5I_GROUP         <NA>               <NA>\n",
       " decontXcounts H5I_GROUP         <NA>               <NA>\n",
       "    raw_counts H5I_GROUP         <NA>               <NA>"
      ]
     },
     "metadata": {},
     "output_type": "display_data"
    }
   ],
   "source": [
    "hfile[[\"assays\"]]\n"
   ]
  },
  {
   "cell_type": "code",
   "execution_count": 7,
   "id": "amended-printing",
   "metadata": {},
   "outputs": [
    {
     "data": {
      "text/plain": [
       "Class: H5Group\n",
       "Filename: /home/galen/ts_annotation/data/paper/lung_eval/TSP1_TSP15_lung.h5seurat\n",
       "Group: /assays/raw_counts\n",
       "Attributes: key\n",
       "Listing:\n",
       "     name    obj_type dataset.dims dataset.type_class\n",
       "   counts   H5I_GROUP         <NA>               <NA>\n",
       "     data   H5I_GROUP         <NA>               <NA>\n",
       " features H5I_DATASET        58870         H5T_STRING"
      ]
     },
     "metadata": {},
     "output_type": "display_data"
    }
   ],
   "source": [
    "hfile[[\"assays/raw_counts\"]]\n"
   ]
  },
  {
   "cell_type": "markdown",
   "id": "seventh-selection",
   "metadata": {},
   "source": [
    "# Integrate TS Lung Data"
   ]
  },
  {
   "cell_type": "code",
   "execution_count": 8,
   "id": "elect-result",
   "metadata": {},
   "outputs": [
    {
     "name": "stderr",
     "output_type": "stream",
     "text": [
      "Validating h5Seurat file\n",
      "\n",
      "Initializing RNA with data\n",
      "\n",
      "Adding counts for RNA\n",
      "\n",
      "Adding feature-level metadata for RNA\n",
      "\n",
      "Initializing decontXcounts with data\n",
      "\n",
      "Adding counts for decontXcounts\n",
      "\n",
      "Initializing raw_counts with data\n",
      "\n",
      "Adding counts for raw_counts\n",
      "\n",
      "Adding command information\n",
      "\n",
      "Adding cell-level metadata\n",
      "\n",
      "Warning message:\n",
      "“Invalid name supplied, making object name syntactically valid. New object name is X10X_runpilottissuesubtissuemethodX10X_sampleX10X_replicatenotesseqrundonoranatomical_positionX10X_barcodecDNAplatelibraryplatewelldonor_methodcell_identifierdecontX_splitn_countsn_genesfinal_annotation_cell_ontology_idscore_epithelialscore_endothelialscore_stromalscore_immunecomputational_compartment_assignmenttissue_cell_typecell_type_tissuecell_ontology_classfree_annotationmanually_annotatedcompartment; see ?make.names for more details on syntax validity”\n",
      "Adding miscellaneous information\n",
      "\n",
      "Adding tool-specific results\n",
      "\n"
     ]
    }
   ],
   "source": [
    "dat <- LoadH5Seurat(\"../../data/paper/lung_eval/TSP1_TSP15_lung.h5seurat\")"
   ]
  },
  {
   "cell_type": "code",
   "execution_count": 9,
   "id": "solid-christianity",
   "metadata": {},
   "outputs": [
    {
     "data": {
      "text/plain": [
       "An object of class Seurat \n",
       "176610 features across 35682 samples within 3 assays \n",
       "Active assay: RNA (58870 features, 0 variable features)\n",
       " 2 other assays present: decontXcounts, raw_counts"
      ]
     },
     "metadata": {},
     "output_type": "display_data"
    }
   ],
   "source": [
    "dat"
   ]
  },
  {
   "cell_type": "code",
   "execution_count": 15,
   "id": "swedish-phone",
   "metadata": {},
   "outputs": [
    {
     "data": {
      "text/html": [
       "<style>\n",
       ".list-inline {list-style: none; margin:0; padding: 0}\n",
       ".list-inline>li {display: inline-block}\n",
       ".list-inline>li:not(:last-child)::after {content: \"\\00b7\"; padding: 0 .5ex}\n",
       "</style>\n",
       "<ol class=list-inline><li>'nCount_decontXcounts'</li><li>'nFeature_decontXcounts'</li><li>'nCount_raw_counts'</li><li>'nFeature_raw_counts'</li><li>'X10X_run'</li><li>'pilot'</li><li>'tissue'</li><li>'subtissue'</li><li>'method'</li><li>'X10X_sample'</li><li>'X10X_replicate'</li><li>'notes'</li><li>'seqrun'</li><li>'donor'</li><li>'anatomical_position'</li><li>'X10X_barcode'</li><li>'cDNAplate'</li><li>'libraryplate'</li><li>'well'</li><li>'donor_method'</li><li>'cell_identifier'</li><li>'decontX_split'</li><li>'n_counts'</li><li>'n_genes'</li><li>'final_annotation_cell_ontology_id'</li><li>'score_epithelial'</li><li>'score_endothelial'</li><li>'score_stromal'</li><li>'score_immune'</li><li>'computational_compartment_assignment'</li><li>'tissue_cell_type'</li><li>'cell_type_tissue'</li><li>'cell_ontology_class'</li><li>'free_annotation'</li><li>'manually_annotated'</li><li>'compartment'</li></ol>\n"
      ],
      "text/latex": [
       "\\begin{enumerate*}\n",
       "\\item 'nCount\\_decontXcounts'\n",
       "\\item 'nFeature\\_decontXcounts'\n",
       "\\item 'nCount\\_raw\\_counts'\n",
       "\\item 'nFeature\\_raw\\_counts'\n",
       "\\item 'X10X\\_run'\n",
       "\\item 'pilot'\n",
       "\\item 'tissue'\n",
       "\\item 'subtissue'\n",
       "\\item 'method'\n",
       "\\item 'X10X\\_sample'\n",
       "\\item 'X10X\\_replicate'\n",
       "\\item 'notes'\n",
       "\\item 'seqrun'\n",
       "\\item 'donor'\n",
       "\\item 'anatomical\\_position'\n",
       "\\item 'X10X\\_barcode'\n",
       "\\item 'cDNAplate'\n",
       "\\item 'libraryplate'\n",
       "\\item 'well'\n",
       "\\item 'donor\\_method'\n",
       "\\item 'cell\\_identifier'\n",
       "\\item 'decontX\\_split'\n",
       "\\item 'n\\_counts'\n",
       "\\item 'n\\_genes'\n",
       "\\item 'final\\_annotation\\_cell\\_ontology\\_id'\n",
       "\\item 'score\\_epithelial'\n",
       "\\item 'score\\_endothelial'\n",
       "\\item 'score\\_stromal'\n",
       "\\item 'score\\_immune'\n",
       "\\item 'computational\\_compartment\\_assignment'\n",
       "\\item 'tissue\\_cell\\_type'\n",
       "\\item 'cell\\_type\\_tissue'\n",
       "\\item 'cell\\_ontology\\_class'\n",
       "\\item 'free\\_annotation'\n",
       "\\item 'manually\\_annotated'\n",
       "\\item 'compartment'\n",
       "\\end{enumerate*}\n"
      ],
      "text/markdown": [
       "1. 'nCount_decontXcounts'\n",
       "2. 'nFeature_decontXcounts'\n",
       "3. 'nCount_raw_counts'\n",
       "4. 'nFeature_raw_counts'\n",
       "5. 'X10X_run'\n",
       "6. 'pilot'\n",
       "7. 'tissue'\n",
       "8. 'subtissue'\n",
       "9. 'method'\n",
       "10. 'X10X_sample'\n",
       "11. 'X10X_replicate'\n",
       "12. 'notes'\n",
       "13. 'seqrun'\n",
       "14. 'donor'\n",
       "15. 'anatomical_position'\n",
       "16. 'X10X_barcode'\n",
       "17. 'cDNAplate'\n",
       "18. 'libraryplate'\n",
       "19. 'well'\n",
       "20. 'donor_method'\n",
       "21. 'cell_identifier'\n",
       "22. 'decontX_split'\n",
       "23. 'n_counts'\n",
       "24. 'n_genes'\n",
       "25. 'final_annotation_cell_ontology_id'\n",
       "26. 'score_epithelial'\n",
       "27. 'score_endothelial'\n",
       "28. 'score_stromal'\n",
       "29. 'score_immune'\n",
       "30. 'computational_compartment_assignment'\n",
       "31. 'tissue_cell_type'\n",
       "32. 'cell_type_tissue'\n",
       "33. 'cell_ontology_class'\n",
       "34. 'free_annotation'\n",
       "35. 'manually_annotated'\n",
       "36. 'compartment'\n",
       "\n",
       "\n"
      ],
      "text/plain": [
       " [1] \"nCount_decontXcounts\"                \n",
       " [2] \"nFeature_decontXcounts\"              \n",
       " [3] \"nCount_raw_counts\"                   \n",
       " [4] \"nFeature_raw_counts\"                 \n",
       " [5] \"X10X_run\"                            \n",
       " [6] \"pilot\"                               \n",
       " [7] \"tissue\"                              \n",
       " [8] \"subtissue\"                           \n",
       " [9] \"method\"                              \n",
       "[10] \"X10X_sample\"                         \n",
       "[11] \"X10X_replicate\"                      \n",
       "[12] \"notes\"                               \n",
       "[13] \"seqrun\"                              \n",
       "[14] \"donor\"                               \n",
       "[15] \"anatomical_position\"                 \n",
       "[16] \"X10X_barcode\"                        \n",
       "[17] \"cDNAplate\"                           \n",
       "[18] \"libraryplate\"                        \n",
       "[19] \"well\"                                \n",
       "[20] \"donor_method\"                        \n",
       "[21] \"cell_identifier\"                     \n",
       "[22] \"decontX_split\"                       \n",
       "[23] \"n_counts\"                            \n",
       "[24] \"n_genes\"                             \n",
       "[25] \"final_annotation_cell_ontology_id\"   \n",
       "[26] \"score_epithelial\"                    \n",
       "[27] \"score_endothelial\"                   \n",
       "[28] \"score_stromal\"                       \n",
       "[29] \"score_immune\"                        \n",
       "[30] \"computational_compartment_assignment\"\n",
       "[31] \"tissue_cell_type\"                    \n",
       "[32] \"cell_type_tissue\"                    \n",
       "[33] \"cell_ontology_class\"                 \n",
       "[34] \"free_annotation\"                     \n",
       "[35] \"manually_annotated\"                  \n",
       "[36] \"compartment\"                         "
      ]
     },
     "metadata": {},
     "output_type": "display_data"
    }
   ],
   "source": [
    "colnames(dat[[]])"
   ]
  },
  {
   "cell_type": "code",
   "execution_count": 19,
   "id": "laughing-galaxy",
   "metadata": {},
   "outputs": [
    {
     "data": {
      "text/html": [
       "'RNA'"
      ],
      "text/latex": [
       "'RNA'"
      ],
      "text/markdown": [
       "'RNA'"
      ],
      "text/plain": [
       "[1] \"RNA\""
      ]
     },
     "metadata": {},
     "output_type": "display_data"
    }
   ],
   "source": [
    "DefaultAssay(object = dat)\n",
    "DefaultAssay(object = dat) <- \"raw_counts\"\n",
    "DefaultAssay(object = dat)"
   ]
  },
  {
   "cell_type": "code",
   "execution_count": 23,
   "id": "wanted-stroke",
   "metadata": {},
   "outputs": [],
   "source": [
    "dat.list <- SplitObject(dat, split.by = \"donor_method\")\n"
   ]
  },
  {
   "cell_type": "code",
   "execution_count": 24,
   "id": "organizational-worry",
   "metadata": {},
   "outputs": [
    {
     "data": {
      "text/plain": [
       "$TSP1410X\n",
       "An object of class Seurat \n",
       "176610 features across 4350 samples within 3 assays \n",
       "Active assay: raw_counts (58870 features, 0 variable features)\n",
       " 2 other assays present: RNA, decontXcounts\n",
       "\n",
       "$TSP110X\n",
       "An object of class Seurat \n",
       "176610 features across 12509 samples within 3 assays \n",
       "Active assay: raw_counts (58870 features, 0 variable features)\n",
       " 2 other assays present: RNA, decontXcounts\n",
       "\n",
       "$TSP1smartseq2\n",
       "An object of class Seurat \n",
       "176610 features across 689 samples within 3 assays \n",
       "Active assay: raw_counts (58870 features, 0 variable features)\n",
       " 2 other assays present: RNA, decontXcounts\n",
       "\n",
       "$TSP210X\n",
       "An object of class Seurat \n",
       "176610 features across 17233 samples within 3 assays \n",
       "Active assay: raw_counts (58870 features, 0 variable features)\n",
       " 2 other assays present: RNA, decontXcounts\n",
       "\n",
       "$TSP2smartseq2\n",
       "An object of class Seurat \n",
       "176610 features across 901 samples within 3 assays \n",
       "Active assay: raw_counts (58870 features, 0 variable features)\n",
       " 2 other assays present: RNA, decontXcounts\n"
      ]
     },
     "metadata": {},
     "output_type": "display_data"
    }
   ],
   "source": [
    "dat.list"
   ]
  },
  {
   "cell_type": "code",
   "execution_count": 26,
   "id": "seven-steel",
   "metadata": {},
   "outputs": [],
   "source": [
    "for (i in 1:length(dat.list)) {\n",
    "    dat.list[[i]] <- NormalizeData(dat.list[[i]], verbose = TRUE)\n",
    "    dat.list[[i]] <- FindVariableFeatures(dat.list[[i]], selection.method = \"vst\", nfeatures = 2000,\n",
    "        verbose = TRUE)\n",
    "}"
   ]
  },
  {
   "cell_type": "code",
   "execution_count": 27,
   "id": "aging-pregnancy",
   "metadata": {},
   "outputs": [
    {
     "name": "stderr",
     "output_type": "stream",
     "text": [
      "Computing 2000 integration features\n",
      "\n",
      "Scaling features for provided objects\n",
      "\n",
      "Finding all pairwise anchors\n",
      "\n",
      "Running CCA\n",
      "\n",
      "Merging objects\n",
      "\n",
      "Finding neighborhoods\n",
      "\n",
      "Finding anchors\n",
      "\n",
      "\tFound 11434 anchors\n",
      "\n",
      "Filtering anchors\n",
      "\n",
      "\tRetained 1783 anchors\n",
      "\n",
      "Running CCA\n",
      "\n",
      "Merging objects\n",
      "\n",
      "Finding neighborhoods\n",
      "\n",
      "Finding anchors\n",
      "\n",
      "\tFound 1865 anchors\n",
      "\n",
      "Filtering anchors\n",
      "\n",
      "\tRetained 1465 anchors\n",
      "\n",
      "Running CCA\n",
      "\n",
      "Merging objects\n",
      "\n",
      "Finding neighborhoods\n",
      "\n",
      "Finding anchors\n",
      "\n",
      "\tFound 2340 anchors\n",
      "\n",
      "Filtering anchors\n",
      "\n",
      "\tRetained 2129 anchors\n",
      "\n",
      "Running CCA\n",
      "\n",
      "Merging objects\n",
      "\n",
      "Finding neighborhoods\n",
      "\n",
      "Finding anchors\n",
      "\n",
      "\tFound 12431 anchors\n",
      "\n",
      "Filtering anchors\n",
      "\n",
      "\tRetained 1936 anchors\n",
      "\n",
      "Running CCA\n",
      "\n",
      "Merging objects\n",
      "\n",
      "Finding neighborhoods\n",
      "\n",
      "Finding anchors\n",
      "\n",
      "\tFound 18703 anchors\n",
      "\n",
      "Filtering anchors\n",
      "\n",
      "\tRetained 5152 anchors\n",
      "\n",
      "Running CCA\n",
      "\n",
      "Merging objects\n",
      "\n",
      "Finding neighborhoods\n",
      "\n",
      "Finding anchors\n",
      "\n",
      "\tFound 2692 anchors\n",
      "\n",
      "Filtering anchors\n",
      "\n",
      "\tRetained 1343 anchors\n",
      "\n",
      "Running CCA\n",
      "\n",
      "Merging objects\n",
      "\n",
      "Finding neighborhoods\n",
      "\n",
      "Finding anchors\n",
      "\n",
      "\tFound 3023 anchors\n",
      "\n",
      "Filtering anchors\n",
      "\n",
      "\tRetained 1468 anchors\n",
      "\n",
      "Running CCA\n",
      "\n",
      "Merging objects\n",
      "\n",
      "Finding neighborhoods\n",
      "\n",
      "Finding anchors\n",
      "\n",
      "\tFound 3304 anchors\n",
      "\n",
      "Filtering anchors\n",
      "\n",
      "\tRetained 2241 anchors\n",
      "\n",
      "Running CCA\n",
      "\n",
      "Merging objects\n",
      "\n",
      "Finding neighborhoods\n",
      "\n",
      "Finding anchors\n",
      "\n",
      "\tFound 1782 anchors\n",
      "\n",
      "Filtering anchors\n",
      "\n",
      "\tRetained 1600 anchors\n",
      "\n",
      "Running CCA\n",
      "\n",
      "Merging objects\n",
      "\n",
      "Finding neighborhoods\n",
      "\n",
      "Finding anchors\n",
      "\n",
      "\tFound 3387 anchors\n",
      "\n",
      "Filtering anchors\n",
      "\n",
      "\tRetained 2996 anchors\n",
      "\n"
     ]
    }
   ],
   "source": [
    "dat.anchors <- FindIntegrationAnchors(object.list = dat.list, dims = 1:30)"
   ]
  },
  {
   "cell_type": "code",
   "execution_count": 28,
   "id": "organizational-pharmaceutical",
   "metadata": {},
   "outputs": [
    {
     "name": "stderr",
     "output_type": "stream",
     "text": [
      "Merging dataset 5 into 4\n",
      "\n",
      "Extracting anchors for merged samples\n",
      "\n",
      "Finding integration vectors\n",
      "\n",
      "Finding integration vector weights\n",
      "\n",
      "Integrating data\n",
      "\n",
      "Merging dataset 3 into 2\n",
      "\n",
      "Extracting anchors for merged samples\n",
      "\n",
      "Finding integration vectors\n",
      "\n",
      "Finding integration vector weights\n",
      "\n",
      "Integrating data\n",
      "\n",
      "Merging dataset 1 into 4 5\n",
      "\n",
      "Extracting anchors for merged samples\n",
      "\n",
      "Finding integration vectors\n",
      "\n",
      "Finding integration vector weights\n",
      "\n",
      "Integrating data\n",
      "\n",
      "Merging dataset 2 3 into 4 5 1\n",
      "\n",
      "Extracting anchors for merged samples\n",
      "\n",
      "Finding integration vectors\n",
      "\n",
      "Finding integration vector weights\n",
      "\n",
      "Integrating data\n",
      "\n"
     ]
    }
   ],
   "source": [
    "dat.integrated <- IntegrateData(anchorset = dat.anchors, dims = 1:30)\n"
   ]
  },
  {
   "cell_type": "code",
   "execution_count": 31,
   "id": "congressional-charge",
   "metadata": {},
   "outputs": [
    {
     "data": {
      "text/plain": [
       "An object of class Seurat \n",
       "178610 features across 35682 samples within 4 assays \n",
       "Active assay: integrated (2000 features, 2000 variable features)\n",
       " 3 other assays present: RNA, decontXcounts, raw_counts"
      ]
     },
     "metadata": {},
     "output_type": "display_data"
    }
   ],
   "source": [
    "dat.integrated"
   ]
  },
  {
   "cell_type": "code",
   "execution_count": 60,
   "id": "reverse-hello",
   "metadata": {},
   "outputs": [
    {
     "name": "stderr",
     "output_type": "stream",
     "text": [
      "Creating h5Seurat file for version 3.1.5.9900\n",
      "\n",
      "Adding counts for RNA\n",
      "\n",
      "Adding data for RNA\n",
      "\n",
      "No variable features found for RNA\n",
      "\n",
      "No feature-level metadata found for RNA\n",
      "\n",
      "Adding counts for decontXcounts\n",
      "\n",
      "Adding data for decontXcounts\n",
      "\n",
      "No variable features found for decontXcounts\n",
      "\n",
      "No feature-level metadata found for decontXcounts\n",
      "\n",
      "Adding counts for raw_counts\n",
      "\n",
      "Adding data for raw_counts\n",
      "\n",
      "No variable features found for raw_counts\n",
      "\n",
      "No feature-level metadata found for raw_counts\n",
      "\n",
      "Adding data for integrated\n",
      "\n",
      "Adding scale.data for integrated\n",
      "\n",
      "Adding variable features for integrated\n",
      "\n",
      "No feature-level metadata found for integrated\n",
      "\n",
      "Adding cell embeddings for pca\n",
      "\n",
      "Adding loadings for pca\n",
      "\n",
      "No projected loadings for pca\n",
      "\n",
      "Adding standard deviations for pca\n",
      "\n",
      "No JackStraw data for pca\n",
      "\n"
     ]
    }
   ],
   "source": [
    "# SaveH5Seurat(dat.integrated, filename='ts_lung.h5Seurat', overwrite=TRUE)"
   ]
  },
  {
   "cell_type": "code",
   "execution_count": null,
   "id": "eleven-glucose",
   "metadata": {},
   "outputs": [],
   "source": [
    "dat.integrated <- ScaleData(dat.integrated, verbose = FALSE)\n",
    "dat.integrated <- RunPCA(dat.integrated, npcs = 30, verbose = FALSE)"
   ]
  },
  {
   "cell_type": "markdown",
   "id": "phantom-myanmar",
   "metadata": {},
   "source": [
    "# Integrate LCA data batches"
   ]
  },
  {
   "cell_type": "code",
   "execution_count": 61,
   "id": "prompt-architecture",
   "metadata": {},
   "outputs": [
    {
     "name": "stderr",
     "output_type": "stream",
     "text": [
      "Validating h5Seurat file\n",
      "\n",
      "Initializing RNA with data\n",
      "\n",
      "Adding counts for RNA\n",
      "\n",
      "Adding feature-level metadata for RNA\n",
      "\n",
      "Adding command information\n",
      "\n",
      "Adding cell-level metadata\n",
      "\n",
      "Adding miscellaneous information\n",
      "\n",
      "Adding tool-specific results\n",
      "\n"
     ]
    }
   ],
   "source": [
    "lca <- LoadH5Seurat(\"../../data/paper/lung_eval/LCA_lung.h5seurat\")"
   ]
  },
  {
   "cell_type": "code",
   "execution_count": 62,
   "id": "temporal-hearts",
   "metadata": {},
   "outputs": [
    {
     "data": {
      "text/plain": [
       "An object of class Seurat \n",
       "23681 features across 75071 samples within 1 assay \n",
       "Active assay: RNA (23681 features, 0 variable features)"
      ]
     },
     "metadata": {},
     "output_type": "display_data"
    }
   ],
   "source": [
    "lca"
   ]
  },
  {
   "cell_type": "code",
   "execution_count": 63,
   "id": "uniform-franchise",
   "metadata": {},
   "outputs": [
    {
     "data": {
      "text/html": [
       "'RNA'"
      ],
      "text/latex": [
       "'RNA'"
      ],
      "text/markdown": [
       "'RNA'"
      ],
      "text/plain": [
       "[1] \"RNA\""
      ]
     },
     "metadata": {},
     "output_type": "display_data"
    },
    {
     "name": "stderr",
     "output_type": "stream",
     "text": [
      "Renaming default assay from RNA to raw_counts\n",
      "\n"
     ]
    }
   ],
   "source": [
    "DefaultAssay(object = lca)\n",
    "\n",
    "# after conversion, lca's rna assay is indeed raw counts\n",
    "lca <- RenameAssays(object = lca, RNA = 'raw_counts')"
   ]
  },
  {
   "cell_type": "code",
   "execution_count": 64,
   "id": "convenient-joshua",
   "metadata": {},
   "outputs": [
    {
     "data": {
      "text/plain": [
       "An object of class Seurat \n",
       "23681 features across 75071 samples within 1 assay \n",
       "Active assay: raw_counts (23681 features, 0 variable features)"
      ]
     },
     "metadata": {},
     "output_type": "display_data"
    }
   ],
   "source": [
    "lca"
   ]
  },
  {
   "cell_type": "code",
   "execution_count": 65,
   "id": "checked-story",
   "metadata": {},
   "outputs": [
    {
     "data": {
      "text/html": [
       "<style>\n",
       ".list-inline {list-style: none; margin:0; padding: 0}\n",
       ".list-inline>li {display: inline-block}\n",
       ".list-inline>li:not(:last-child)::after {content: \"\\00b7\"; padding: 0 .5ex}\n",
       "</style>\n",
       "<ol class=list-inline><li>'method'</li><li>'donor'</li><li>'cell_ontology_type'</li><li>'donor_method'</li><li>'cell_ontology_id'</li><li>'nCount_raw_counts'</li><li>'nFeature_raw_counts'</li></ol>\n"
      ],
      "text/latex": [
       "\\begin{enumerate*}\n",
       "\\item 'method'\n",
       "\\item 'donor'\n",
       "\\item 'cell\\_ontology\\_type'\n",
       "\\item 'donor\\_method'\n",
       "\\item 'cell\\_ontology\\_id'\n",
       "\\item 'nCount\\_raw\\_counts'\n",
       "\\item 'nFeature\\_raw\\_counts'\n",
       "\\end{enumerate*}\n"
      ],
      "text/markdown": [
       "1. 'method'\n",
       "2. 'donor'\n",
       "3. 'cell_ontology_type'\n",
       "4. 'donor_method'\n",
       "5. 'cell_ontology_id'\n",
       "6. 'nCount_raw_counts'\n",
       "7. 'nFeature_raw_counts'\n",
       "\n",
       "\n"
      ],
      "text/plain": [
       "[1] \"method\"              \"donor\"               \"cell_ontology_type\" \n",
       "[4] \"donor_method\"        \"cell_ontology_id\"    \"nCount_raw_counts\"  \n",
       "[7] \"nFeature_raw_counts\""
      ]
     },
     "metadata": {},
     "output_type": "display_data"
    }
   ],
   "source": [
    "colnames(lca[[]])"
   ]
  },
  {
   "cell_type": "code",
   "execution_count": 66,
   "id": "documented-florist",
   "metadata": {},
   "outputs": [
    {
     "data": {
      "text/html": [
       "'raw_counts'"
      ],
      "text/latex": [
       "'raw\\_counts'"
      ],
      "text/markdown": [
       "'raw_counts'"
      ],
      "text/plain": [
       "[1] \"raw_counts\""
      ]
     },
     "metadata": {},
     "output_type": "display_data"
    }
   ],
   "source": [
    "DefaultAssay(object = lca) <- \"raw_counts\"\n",
    "DefaultAssay(object = lca)"
   ]
  },
  {
   "cell_type": "code",
   "execution_count": 74,
   "id": "consolidated-landing",
   "metadata": {},
   "outputs": [],
   "source": [
    "lca.list <- SplitObject(lca, split.by = \"donor_method\")\n"
   ]
  },
  {
   "cell_type": "code",
   "execution_count": 75,
   "id": "combined-opera",
   "metadata": {},
   "outputs": [],
   "source": [
    "lca.list <- lapply(X = lca.list, FUN = NormalizeData, verbose = FALSE)\n"
   ]
  },
  {
   "cell_type": "code",
   "execution_count": 76,
   "id": "employed-clause",
   "metadata": {},
   "outputs": [],
   "source": [
    "lca.list <- lapply(X = lca.list,\n",
    "                   FUN=FindVariableFeatures, \n",
    "                   selection.method = \"vst\", \n",
    "                   nfeatures = 2000,\n",
    "                   verbose = TRUE)"
   ]
  },
  {
   "cell_type": "code",
   "execution_count": 77,
   "id": "driven-functionality",
   "metadata": {},
   "outputs": [],
   "source": [
    "lca.list <- lapply(X = lca.list, FUN = ScaleData, verbose=FALSE)"
   ]
  },
  {
   "cell_type": "code",
   "execution_count": 78,
   "id": "frank-words",
   "metadata": {},
   "outputs": [],
   "source": [
    "lca.list <- lapply(X = lca.list, FUN = RunPCA, npcs=30, verbose=FALSE)"
   ]
  },
  {
   "cell_type": "code",
   "execution_count": 79,
   "id": "registered-findings",
   "metadata": {},
   "outputs": [
    {
     "name": "stderr",
     "output_type": "stream",
     "text": [
      "Projecting cell embeddings\n",
      "\n",
      "Finding neighborhoods\n",
      "\n",
      "Finding anchors\n",
      "\n",
      "\tFound 12718 anchors\n",
      "\n",
      "Projecting cell embeddings\n",
      "\n",
      "Finding neighborhoods\n",
      "\n",
      "Finding anchors\n",
      "\n",
      "\tFound 9220 anchors\n",
      "\n",
      "Projecting cell embeddings\n",
      "\n",
      "Finding neighborhoods\n",
      "\n",
      "Finding anchors\n",
      "\n",
      "\tFound 18954 anchors\n",
      "\n",
      "Projecting cell embeddings\n",
      "\n",
      "Finding neighborhoods\n",
      "\n",
      "Finding anchors\n",
      "\n",
      "\tFound 4118 anchors\n",
      "\n",
      "Projecting cell embeddings\n",
      "\n",
      "Finding neighborhoods\n",
      "\n",
      "Finding anchors\n",
      "\n",
      "\tFound 6390 anchors\n",
      "\n",
      "Projecting cell embeddings\n",
      "\n",
      "Finding neighborhoods\n",
      "\n",
      "Finding anchors\n",
      "\n",
      "\tFound 3933 anchors\n",
      "\n"
     ]
    }
   ],
   "source": [
    "anchors <- list()\n",
    "for (i in 1:length(lca.list)) {\n",
    "  anchors[[i]] <- FindTransferAnchors(\n",
    "      reference = dat.integrated, \n",
    "      query = lca.list[[i]],\n",
    "      dims = 1:30,\n",
    "      k.filter = NA,\n",
    "      reference.reduction = \"pca\")\n",
    "}\n",
    "\n",
    "\n"
   ]
  },
  {
   "cell_type": "code",
   "execution_count": 85,
   "id": "aerial-burns",
   "metadata": {},
   "outputs": [
    {
     "name": "stderr",
     "output_type": "stream",
     "text": [
      "Finding integration vectors\n",
      "\n",
      "Finding integration vector weights\n",
      "\n",
      "Predicting cell labels\n",
      "\n",
      "Finding integration vectors\n",
      "\n",
      "Finding integration vector weights\n",
      "\n",
      "Predicting cell labels\n",
      "\n",
      "Finding integration vectors\n",
      "\n",
      "Finding integration vector weights\n",
      "\n",
      "Predicting cell labels\n",
      "\n",
      "Finding integration vectors\n",
      "\n",
      "Finding integration vector weights\n",
      "\n",
      "Predicting cell labels\n",
      "\n",
      "Finding integration vectors\n",
      "\n",
      "Finding integration vector weights\n",
      "\n",
      "Predicting cell labels\n",
      "\n",
      "Finding integration vectors\n",
      "\n",
      "Finding integration vector weights\n",
      "\n",
      "Predicting cell labels\n",
      "\n"
     ]
    }
   ],
   "source": [
    "predictions <- list()\n",
    "for (i in 1:length(lca.list)) {\n",
    "  predictions[[i]] <- TransferData(\n",
    "      anchorset = anchors[[i]], \n",
    "      refdata = dat.integrated$cell_ontology_class,\n",
    "      dims = 1:30)\n",
    "}"
   ]
  },
  {
   "cell_type": "code",
   "execution_count": 103,
   "id": "popular-bolivia",
   "metadata": {},
   "outputs": [],
   "source": [
    "\n",
    "library(dplyr)\n",
    "all_predictions <-bind_rows(predictions)"
   ]
  },
  {
   "cell_type": "code",
   "execution_count": 104,
   "id": "weekly-completion",
   "metadata": {},
   "outputs": [
    {
     "data": {
      "text/html": [
       "<style>\n",
       ".list-inline {list-style: none; margin:0; padding: 0}\n",
       ".list-inline>li {display: inline-block}\n",
       ".list-inline>li:not(:last-child)::after {content: \"\\00b7\"; padding: 0 .5ex}\n",
       "</style>\n",
       "<ol class=list-inline><li>75071</li><li>40</li></ol>\n"
      ],
      "text/latex": [
       "\\begin{enumerate*}\n",
       "\\item 75071\n",
       "\\item 40\n",
       "\\end{enumerate*}\n"
      ],
      "text/markdown": [
       "1. 75071\n",
       "2. 40\n",
       "\n",
       "\n"
      ],
      "text/plain": [
       "[1] 75071    40"
      ]
     },
     "metadata": {},
     "output_type": "display_data"
    }
   ],
   "source": [
    "dim(all_predictions)"
   ]
  },
  {
   "cell_type": "code",
   "execution_count": 105,
   "id": "hungry-parameter",
   "metadata": {},
   "outputs": [],
   "source": [
    "write.csv(all_predictions, \"seurat_predictions.csv\")"
   ]
  },
  {
   "cell_type": "code",
   "execution_count": null,
   "id": "baking-humanitarian",
   "metadata": {},
   "outputs": [],
   "source": []
  }
 ],
 "metadata": {
  "kernelspec": {
   "display_name": "R",
   "language": "python",
   "name": "ir"
  },
  "language_info": {
   "codemirror_mode": {
    "name": "ipython",
    "version": 3
   },
   "file_extension": ".py",
   "mimetype": "text/x-python",
   "name": "python",
   "nbconvert_exporter": "python",
   "pygments_lexer": "ipython3",
   "version": "3.10.9"
  },
  "vscode": {
   "interpreter": {
    "hash": "2857c5ccaeec11a91bf0740c805f8116a28aeae80e092559ee2c033b5bd2ef23"
   }
  }
 },
 "nbformat": 4,
 "nbformat_minor": 5
}
