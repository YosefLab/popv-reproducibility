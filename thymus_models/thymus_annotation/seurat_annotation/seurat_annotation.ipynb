{
 "cells": [
  {
   "cell_type": "code",
   "execution_count": 1,
   "id": "collect-correction",
   "metadata": {
    "vscode": {
     "languageId": "r"
    }
   },
   "outputs": [
    {
     "name": "stderr",
     "output_type": "stream",
     "text": [
      "Attaching SeuratObject\n",
      "\n",
      "Warning message:\n",
      "“package ‘anndata’ was built under R version 4.2.1”\n"
     ]
    }
   ],
   "source": [
    "# Use Python [conda env:scrna_py_r]\n",
    "library(Seurat)\n",
    "library(anndata)"
   ]
  },
  {
   "cell_type": "code",
   "execution_count": 2,
   "id": "b2398654-167b-406b-8a9f-4aeae06b6cbe",
   "metadata": {
    "vscode": {
     "languageId": "r"
    }
   },
   "outputs": [
    {
     "name": "stderr",
     "output_type": "stream",
     "text": [
      "Warning message in asMethod(object):\n",
      "“sparse->dense coercion: allocating vector of size 62.8 GiB”\n",
      "Warning message:\n",
      "“Feature names cannot have underscores ('_'), replacing with dashes ('-')”\n"
     ]
    },
    {
     "name": "stdout",
     "output_type": "stream",
     "text": [
      "Formal class 'Seurat' [package \"SeuratObject\"] with 13 slots\n",
      "  ..@ assays      :List of 1\n",
      "  .. ..$ RNA:Formal class 'Assay' [package \"SeuratObject\"] with 8 slots\n",
      "  .. .. .. ..@ counts       :Formal class 'dgCMatrix' [package \"Matrix\"] with 6 slots\n",
      "  .. .. .. .. .. ..@ i       : int [1:549340436] 3 11 20 21 22 29 50 52 53 69 ...\n",
      "  .. .. .. .. .. ..@ p       : int [1:255902] 0 1898 3108 6255 8640 11076 13000 14387 15810 18631 ...\n",
      "  .. .. .. .. .. ..@ Dim     : int [1:2] 32922 255901\n",
      "  .. .. .. .. .. ..@ Dimnames:List of 2\n",
      "  .. .. .. .. .. .. ..$ : chr [1:32922] \"TSPAN6\" \"TNMD\" \"DPM1\" \"SCYL3\" ...\n",
      "  .. .. .. .. .. .. ..$ : chr [1:255901] \"FCAImmP7179369-AAACCTGAGCCCAATT\" \"FCAImmP7179369-AAACCTGAGCCTATGT\" \"FCAImmP7179369-AAACCTGAGTCGCCGT\" \"FCAImmP7179369-AAACCTGCAGCATGAG\" ...\n",
      "  .. .. .. .. .. ..@ x       : num [1:549340436] 1 1 1 1 5 1 1 1 1 1 ...\n",
      "  .. .. .. .. .. ..@ factors : list()\n",
      "  .. .. .. ..@ data         :Formal class 'dgCMatrix' [package \"Matrix\"] with 6 slots\n",
      "  .. .. .. .. .. ..@ i       : int [1:549340436] 3 11 20 21 22 29 50 52 53 69 ...\n",
      "  .. .. .. .. .. ..@ p       : int [1:255902] 0 1898 3108 6255 8640 11076 13000 14387 15810 18631 ...\n",
      "  .. .. .. .. .. ..@ Dim     : int [1:2] 32922 255901\n",
      "  .. .. .. .. .. ..@ Dimnames:List of 2\n",
      "  .. .. .. .. .. .. ..$ : chr [1:32922] \"TSPAN6\" \"TNMD\" \"DPM1\" \"SCYL3\" ...\n",
      "  .. .. .. .. .. .. ..$ : chr [1:255901] \"FCAImmP7179369-AAACCTGAGCCCAATT\" \"FCAImmP7179369-AAACCTGAGCCTATGT\" \"FCAImmP7179369-AAACCTGAGTCGCCGT\" \"FCAImmP7179369-AAACCTGCAGCATGAG\" ...\n",
      "  .. .. .. .. .. ..@ x       : num [1:549340436] 1 1 1 1 5 1 1 1 1 1 ...\n",
      "  .. .. .. .. .. ..@ factors : list()\n",
      "  .. .. .. ..@ scale.data   : num[0 , 0 ] \n",
      "  .. .. .. ..@ key          : chr \"rna_\"\n",
      "  .. .. .. ..@ assay.orig   : NULL\n",
      "  .. .. .. ..@ var.features : logi(0) \n",
      "  .. .. .. ..@ meta.features:'data.frame':\t32922 obs. of  0 variables\n",
      "  .. .. .. ..@ misc         : list()\n",
      "  ..@ meta.data   :'data.frame':\t255901 obs. of  12 variables:\n",
      "  .. ..$ orig.ident         : Factor w/ 1 level \"SeuratProject\": 1 1 1 1 1 1 1 1 1 1 ...\n",
      "  .. ..$ nCount_RNA         : num [1:255901] 8738 3627 14181 12306 9124 ...\n",
      "  .. ..$ nFeature_RNA       : int [1:255901] 1898 1210 3147 2385 2436 1924 1387 1423 2821 875 ...\n",
      "  .. ..$ Sample             : Factor w/ 74 levels \"A16_TH_TOT_1\",..: 27 27 27 27 27 27 27 27 27 27 ...\n",
      "  .. ..$ donor_id           : Factor w/ 23 levels \"A16\",\"A43\",\"C34\",..: 6 6 6 6 6 6 6 6 6 6 ...\n",
      "  .. ..$ paper_annotation   : Factor w/ 33 levels \"fibroblast\",\"T cell\",..: 14 13 21 14 26 14 22 21 21 14 ...\n",
      "  .. ..$ assay              : Factor w/ 3 levels \"10x 3' v2\",\"10x 5' v1\",..: 1 1 1 1 1 1 1 1 1 1 ...\n",
      "  .. ..$ sex                : Factor w/ 2 levels \"female\",\"male\": 2 2 2 2 2 2 2 2 2 2 ...\n",
      "  .. ..$ tissue             : Factor w/ 1 level \"thymus\": 1 1 1 1 1 1 1 1 1 1 ...\n",
      "  .. ..$ development_stage  : Factor w/ 16 levels \"human early adulthood stage\",..: 10 10 10 10 10 10 10 10 10 10 ...\n",
      "  .. ..$ donor_assay        : Factor w/ 29 levels \"A16_10x 3' v2\",..: 7 7 7 7 7 7 7 7 7 7 ...\n",
      "  .. ..$ cell_ontology_class: Factor w/ 28 levels \"B cell\",\"CD4-positive helper T cell\",..: 4 2 10 4 3 4 24 10 10 4 ...\n",
      "  ..@ active.assay: chr \"RNA\"\n",
      "  ..@ active.ident: Factor w/ 1 level \"SeuratProject\": 1 1 1 1 1 1 1 1 1 1 ...\n",
      "  .. ..- attr(*, \"names\")= chr [1:255901] \"FCAImmP7179369-AAACCTGAGCCCAATT\" \"FCAImmP7179369-AAACCTGAGCCTATGT\" \"FCAImmP7179369-AAACCTGAGTCGCCGT\" \"FCAImmP7179369-AAACCTGCAGCATGAG\" ...\n",
      "  ..@ graphs      : list()\n",
      "  ..@ neighbors   : list()\n",
      "  ..@ reductions  : list()\n",
      "  ..@ images      : list()\n",
      "  ..@ project.name: chr \"SeuratProject\"\n",
      "  ..@ misc        : list()\n",
      "  ..@ version     :Classes 'package_version', 'numeric_version'  hidden list of 1\n",
      "  .. ..$ : int [1:3] 4 1 3\n",
      "  ..@ commands    : list()\n",
      "  ..@ tools       : list()\n",
      "NULL\n"
     ]
    }
   ],
   "source": [
    "data <- read_h5ad(\"../thymus_query_construction/Thymus.h5ad\")\n",
    "query <- CreateSeuratObject(counts = t(as.matrix(data$X)), meta.data = data$obs)\n",
    "print(str(query))"
   ]
  },
  {
   "cell_type": "code",
   "execution_count": 3,
   "id": "ec52ad2f-d61e-4f0d-a933-6ecb627c3fcd",
   "metadata": {
    "vscode": {
     "languageId": "r"
    }
   },
   "outputs": [
    {
     "name": "stderr",
     "output_type": "stream",
     "text": [
      "Warning message in asMethod(object):\n",
      "“sparse->dense coercion: allocating vector of size 14.7 GiB”\n",
      "Warning message:\n",
      "“Feature names cannot have underscores ('_'), replacing with dashes ('-')”\n"
     ]
    },
    {
     "name": "stdout",
     "output_type": "stream",
     "text": [
      "Formal class 'Seurat' [package \"SeuratObject\"] with 13 slots\n",
      "  ..@ assays      :List of 1\n",
      "  .. ..$ RNA:Formal class 'Assay' [package \"SeuratObject\"] with 8 slots\n",
      "  .. .. .. ..@ counts       :Formal class 'dgCMatrix' [package \"Matrix\"] with 6 slots\n",
      "  .. .. .. .. .. ..@ i       : int [1:82208247] 38 60 66 85 89 95 98 103 105 120 ...\n",
      "  .. .. .. .. .. ..@ p       : int [1:33662] 0 3460 5646 7884 9959 12478 14179 16630 18717 20738 ...\n",
      "  .. .. .. .. .. ..@ Dim     : int [1:2] 58559 33661\n",
      "  .. .. .. .. .. ..@ Dimnames:List of 2\n",
      "  .. .. .. .. .. .. ..$ : chr [1:58559] \"DDX11L1\" \"WASH7P\" \"MIR6859-1\" \"MIR1302-2HG\" ...\n",
      "  .. .. .. .. .. .. ..$ : chr [1:33661] \"AAACCTGAGCTAACAA_TSP14_Thymus_NA_10X_1_1_5Prime\" \"AAACCTGCACTGCCAG_TSP14_Thymus_NA_10X_1_1_5Prime\" \"AAACCTGCATGAAGTA_TSP14_Thymus_NA_10X_1_1_5Prime\" \"AAACCTGGTACCATCA_TSP14_Thymus_NA_10X_1_1_5Prime\" ...\n",
      "  .. .. .. .. .. ..@ x       : num [1:82208247] 4 2 1 1 1 1 1 2 2 2 ...\n",
      "  .. .. .. .. .. ..@ factors : list()\n",
      "  .. .. .. ..@ data         :Formal class 'dgCMatrix' [package \"Matrix\"] with 6 slots\n",
      "  .. .. .. .. .. ..@ i       : int [1:82208247] 38 60 66 85 89 95 98 103 105 120 ...\n",
      "  .. .. .. .. .. ..@ p       : int [1:33662] 0 3460 5646 7884 9959 12478 14179 16630 18717 20738 ...\n",
      "  .. .. .. .. .. ..@ Dim     : int [1:2] 58559 33661\n",
      "  .. .. .. .. .. ..@ Dimnames:List of 2\n",
      "  .. .. .. .. .. .. ..$ : chr [1:58559] \"DDX11L1\" \"WASH7P\" \"MIR6859-1\" \"MIR1302-2HG\" ...\n",
      "  .. .. .. .. .. .. ..$ : chr [1:33661] \"AAACCTGAGCTAACAA_TSP14_Thymus_NA_10X_1_1_5Prime\" \"AAACCTGCACTGCCAG_TSP14_Thymus_NA_10X_1_1_5Prime\" \"AAACCTGCATGAAGTA_TSP14_Thymus_NA_10X_1_1_5Prime\" \"AAACCTGGTACCATCA_TSP14_Thymus_NA_10X_1_1_5Prime\" ...\n",
      "  .. .. .. .. .. ..@ x       : num [1:82208247] 4 2 1 1 1 1 1 2 2 2 ...\n",
      "  .. .. .. .. .. ..@ factors : list()\n",
      "  .. .. .. ..@ scale.data   : num[0 , 0 ] \n",
      "  .. .. .. ..@ key          : chr \"rna_\"\n",
      "  .. .. .. ..@ assay.orig   : NULL\n",
      "  .. .. .. ..@ var.features : logi(0) \n",
      "  .. .. .. ..@ meta.features:'data.frame':\t58559 obs. of  0 variables\n",
      "  .. .. .. ..@ misc         : list()\n",
      "  ..@ meta.data   :'data.frame':\t33661 obs. of  17 variables:\n",
      "  .. ..$ orig.ident                : Factor w/ 1 level \"SeuratProject\": 1 1 1 1 1 1 1 1 1 1 ...\n",
      "  .. ..$ nCount_RNA                : num [1:33661] 12134 5530 6622 6542 8255 ...\n",
      "  .. ..$ nFeature_RNA              : int [1:33661] 3460 2186 2238 2075 2519 1701 2451 2087 2021 2438 ...\n",
      "  .. ..$ tissue_in_publication     : Factor w/ 1 level \"Thymus\": 1 1 1 1 1 1 1 1 1 1 ...\n",
      "  .. ..$ donor_id                  : Factor w/ 2 levels \"TSP2\",\"TSP14\": 2 2 2 2 2 2 2 2 2 2 ...\n",
      "  .. ..$ free_annotation           : Factor w/ 42 levels \"B cells\",\"CD4 helper T cell-like\",..: 2 34 2 2 2 2 2 2 2 9 ...\n",
      "  .. ..$ compartment               : Factor w/ 4 levels \"endothelial\",..: 3 3 3 3 3 3 3 3 3 3 ...\n",
      "  .. ..$ cell_type_ontology_term_id: Factor w/ 30 levels \"CL:0000057\",\"CL:0000077\",..: 10 29 10 10 10 10 10 10 10 24 ...\n",
      "  .. ..$ cell_type                 : Factor w/ 30 levels \"fibroblast\",\"mesothelial cell\",..: 10 29 10 10 10 10 10 10 10 24 ...\n",
      "  .. ..$ assay                     : Factor w/ 2 levels \"Smart-seq2\",\"10x 3' v3\": 2 2 2 2 2 2 2 2 2 2 ...\n",
      "  .. ..$ sex                       : Factor w/ 2 levels \"female\",\"male\": 2 2 2 2 2 2 2 2 2 2 ...\n",
      "  .. ..$ tissue                    : Factor w/ 1 level \"thymus\": 1 1 1 1 1 1 1 1 1 1 ...\n",
      "  .. ..$ cell_ontology_class       : Factor w/ 30 levels \"B cell\",\"CD4-positive helper T cell\",..: 2 26 2 2 2 2 2 2 2 8 ...\n",
      "  .. ..$ cell_ontology_class_tissue: Factor w/ 30 levels \"Thymus_B cell\",..: 2 26 2 2 2 2 2 2 2 8 ...\n",
      "  .. ..$ donor_tissue              : Factor w/ 2 levels \"TSP2_Thymus\",..: 2 2 2 2 2 2 2 2 2 2 ...\n",
      "  .. ..$ assay_correct             : Factor w/ 3 levels \"10x 3' v3\",\"10x 5' v3\",..: 2 2 2 2 2 2 2 2 2 2 ...\n",
      "  .. ..$ donor_assay               : Factor w/ 4 levels \"TSP2_10x 3' v3\",..: 4 4 4 4 4 4 4 4 4 4 ...\n",
      "  ..@ active.assay: chr \"RNA\"\n",
      "  ..@ active.ident: Factor w/ 1 level \"SeuratProject\": 1 1 1 1 1 1 1 1 1 1 ...\n",
      "  .. ..- attr(*, \"names\")= chr [1:33661] \"AAACCTGAGCTAACAA_TSP14_Thymus_NA_10X_1_1_5Prime\" \"AAACCTGCACTGCCAG_TSP14_Thymus_NA_10X_1_1_5Prime\" \"AAACCTGCATGAAGTA_TSP14_Thymus_NA_10X_1_1_5Prime\" \"AAACCTGGTACCATCA_TSP14_Thymus_NA_10X_1_1_5Prime\" ...\n",
      "  ..@ graphs      : list()\n",
      "  ..@ neighbors   : list()\n",
      "  ..@ reductions  : list()\n",
      "  ..@ images      : list()\n",
      "  ..@ project.name: chr \"SeuratProject\"\n",
      "  ..@ misc        : list()\n",
      "  ..@ version     :Classes 'package_version', 'numeric_version'  hidden list of 1\n",
      "  .. ..$ : int [1:3] 4 1 3\n",
      "  ..@ commands    : list()\n",
      "  ..@ tools       : list()\n",
      "NULL\n"
     ]
    }
   ],
   "source": [
    "data <- read_h5ad(\"../../thymus_cv/data/Thymus_TS.h5ad\")\n",
    "ref <- CreateSeuratObject(counts = t(as.matrix(data$X)), meta.data = data$obs)\n",
    "print(str(ref))"
   ]
  },
  {
   "attachments": {},
   "cell_type": "markdown",
   "id": "seventh-selection",
   "metadata": {},
   "source": [
    "# Integrate TS Thymus Data"
   ]
  },
  {
   "cell_type": "code",
   "execution_count": 4,
   "id": "wanted-stroke",
   "metadata": {
    "vscode": {
     "languageId": "r"
    }
   },
   "outputs": [],
   "source": [
    "dat.list <- SplitObject(ref, split.by = \"donor_assay\")"
   ]
  },
  {
   "cell_type": "code",
   "execution_count": 5,
   "id": "organizational-worry",
   "metadata": {
    "vscode": {
     "languageId": "r"
    }
   },
   "outputs": [
    {
     "data": {
      "text/plain": [
       "$`TSP14_10x 5' v3`\n",
       "An object of class Seurat \n",
       "58559 features across 12846 samples within 1 assay \n",
       "Active assay: RNA (58559 features, 0 variable features)\n",
       "\n",
       "$`TSP14_10x 3' v3`\n",
       "An object of class Seurat \n",
       "58559 features across 8729 samples within 1 assay \n",
       "Active assay: RNA (58559 features, 0 variable features)\n",
       "\n",
       "$`TSP2_10x 3' v3`\n",
       "An object of class Seurat \n",
       "58559 features across 11487 samples within 1 assay \n",
       "Active assay: RNA (58559 features, 0 variable features)\n",
       "\n",
       "$`TSP2_Smart-seq2`\n",
       "An object of class Seurat \n",
       "58559 features across 599 samples within 1 assay \n",
       "Active assay: RNA (58559 features, 0 variable features)\n"
      ]
     },
     "metadata": {},
     "output_type": "display_data"
    }
   ],
   "source": [
    "dat.list"
   ]
  },
  {
   "cell_type": "code",
   "execution_count": 6,
   "id": "seven-steel",
   "metadata": {
    "vscode": {
     "languageId": "r"
    }
   },
   "outputs": [],
   "source": [
    "for (i in 1:length(dat.list)) {\n",
    "    dat.list[[i]] <- NormalizeData(dat.list[[i]], verbose = TRUE)\n",
    "    dat.list[[i]] <- FindVariableFeatures(dat.list[[i]], selection.method = \"vst\", nfeatures = 2000,\n",
    "        verbose = TRUE)\n",
    "}"
   ]
  },
  {
   "cell_type": "code",
   "execution_count": 7,
   "id": "aging-pregnancy",
   "metadata": {
    "vscode": {
     "languageId": "r"
    }
   },
   "outputs": [
    {
     "name": "stderr",
     "output_type": "stream",
     "text": [
      "Computing 2000 integration features\n",
      "\n",
      "Scaling features for provided objects\n",
      "\n",
      "Finding all pairwise anchors\n",
      "\n",
      "Running CCA\n",
      "\n",
      "Merging objects\n",
      "\n",
      "Finding neighborhoods\n",
      "\n",
      "Finding anchors\n",
      "\n",
      "\tFound 24258 anchors\n",
      "\n",
      "Filtering anchors\n",
      "\n",
      "\tRetained 13608 anchors\n",
      "\n",
      "Running CCA\n",
      "\n",
      "Merging objects\n",
      "\n",
      "Finding neighborhoods\n",
      "\n",
      "Finding anchors\n",
      "\n",
      "\tFound 20251 anchors\n",
      "\n",
      "Filtering anchors\n",
      "\n",
      "\tRetained 7748 anchors\n",
      "\n",
      "Running CCA\n",
      "\n",
      "Merging objects\n",
      "\n",
      "Finding neighborhoods\n",
      "\n",
      "Finding anchors\n",
      "\n",
      "\tFound 19115 anchors\n",
      "\n",
      "Filtering anchors\n",
      "\n",
      "\tRetained 7257 anchors\n",
      "\n",
      "Running CCA\n",
      "\n",
      "Merging objects\n",
      "\n",
      "Finding neighborhoods\n",
      "\n",
      "Finding anchors\n",
      "\n",
      "\tFound 2593 anchors\n",
      "\n",
      "Filtering anchors\n",
      "\n",
      "\tRetained 2354 anchors\n",
      "\n",
      "Running CCA\n",
      "\n",
      "Merging objects\n",
      "\n",
      "Finding neighborhoods\n",
      "\n",
      "Finding anchors\n",
      "\n",
      "\tFound 2406 anchors\n",
      "\n",
      "Filtering anchors\n",
      "\n",
      "\tRetained 2176 anchors\n",
      "\n",
      "Running CCA\n",
      "\n",
      "Merging objects\n",
      "\n",
      "Finding neighborhoods\n",
      "\n",
      "Finding anchors\n",
      "\n",
      "\tFound 2473 anchors\n",
      "\n",
      "Filtering anchors\n",
      "\n",
      "\tRetained 2315 anchors\n",
      "\n"
     ]
    }
   ],
   "source": [
    "dat.anchors <- FindIntegrationAnchors(object.list = dat.list, dims = 1:30)"
   ]
  },
  {
   "cell_type": "code",
   "execution_count": 8,
   "id": "organizational-pharmaceutical",
   "metadata": {
    "vscode": {
     "languageId": "r"
    }
   },
   "outputs": [
    {
     "name": "stderr",
     "output_type": "stream",
     "text": [
      "Merging dataset 4 into 1\n",
      "\n",
      "Extracting anchors for merged samples\n",
      "\n",
      "Finding integration vectors\n",
      "\n",
      "Finding integration vector weights\n",
      "\n",
      "Integrating data\n",
      "\n",
      "Merging dataset 2 into 1 4\n",
      "\n",
      "Extracting anchors for merged samples\n",
      "\n",
      "Finding integration vectors\n",
      "\n",
      "Finding integration vector weights\n",
      "\n",
      "Integrating data\n",
      "\n",
      "Merging dataset 3 into 1 4 2\n",
      "\n",
      "Extracting anchors for merged samples\n",
      "\n",
      "Finding integration vectors\n",
      "\n",
      "Finding integration vector weights\n",
      "\n",
      "Integrating data\n",
      "\n"
     ]
    }
   ],
   "source": [
    "dat.integrated <- IntegrateData(anchorset = dat.anchors, dims = 1:30)\n"
   ]
  },
  {
   "cell_type": "code",
   "execution_count": 9,
   "id": "congressional-charge",
   "metadata": {
    "vscode": {
     "languageId": "r"
    }
   },
   "outputs": [
    {
     "data": {
      "text/plain": [
       "An object of class Seurat \n",
       "60559 features across 33661 samples within 2 assays \n",
       "Active assay: integrated (2000 features, 2000 variable features)\n",
       " 1 other assay present: RNA"
      ]
     },
     "metadata": {},
     "output_type": "display_data"
    }
   ],
   "source": [
    "dat.integrated"
   ]
  },
  {
   "cell_type": "code",
   "execution_count": 10,
   "id": "bc7eb7cc-939a-41c9-b6c3-4a7348241cc3",
   "metadata": {
    "vscode": {
     "languageId": "r"
    }
   },
   "outputs": [],
   "source": [
    "saveRDS(dat.integrated, file = \"ts_thymus_integrated.rds\")"
   ]
  },
  {
   "cell_type": "code",
   "execution_count": 11,
   "id": "eleven-glucose",
   "metadata": {
    "vscode": {
     "languageId": "r"
    }
   },
   "outputs": [],
   "source": [
    "dat.integrated <- ScaleData(dat.integrated, verbose = FALSE)\n",
    "dat.integrated <- RunPCA(dat.integrated, npcs = 30, verbose = FALSE)"
   ]
  },
  {
   "attachments": {},
   "cell_type": "markdown",
   "id": "phantom-myanmar",
   "metadata": {},
   "source": [
    "# Integrate Thymus batches"
   ]
  },
  {
   "cell_type": "code",
   "execution_count": 12,
   "id": "temporal-hearts",
   "metadata": {
    "vscode": {
     "languageId": "r"
    }
   },
   "outputs": [
    {
     "data": {
      "text/plain": [
       "An object of class Seurat \n",
       "32922 features across 255901 samples within 1 assay \n",
       "Active assay: RNA (32922 features, 0 variable features)"
      ]
     },
     "metadata": {},
     "output_type": "display_data"
    }
   ],
   "source": [
    "query"
   ]
  },
  {
   "cell_type": "code",
   "execution_count": 13,
   "id": "convenient-joshua",
   "metadata": {
    "vscode": {
     "languageId": "r"
    }
   },
   "outputs": [],
   "source": [
    "lca <- query"
   ]
  },
  {
   "cell_type": "code",
   "execution_count": 14,
   "id": "consolidated-landing",
   "metadata": {
    "vscode": {
     "languageId": "r"
    }
   },
   "outputs": [],
   "source": [
    "lca.list <- SplitObject(lca, split.by = \"donor_assay\")"
   ]
  },
  {
   "cell_type": "code",
   "execution_count": 15,
   "id": "combined-opera",
   "metadata": {
    "vscode": {
     "languageId": "r"
    }
   },
   "outputs": [],
   "source": [
    "lca.list <- lapply(X = lca.list, FUN = NormalizeData, verbose = FALSE)\n"
   ]
  },
  {
   "cell_type": "code",
   "execution_count": 16,
   "id": "employed-clause",
   "metadata": {
    "vscode": {
     "languageId": "r"
    }
   },
   "outputs": [],
   "source": [
    "lca.list <- lapply(X = lca.list,\n",
    "                   FUN=FindVariableFeatures, \n",
    "                   selection.method = \"vst\", \n",
    "                   nfeatures = 2000,\n",
    "                   verbose = TRUE)"
   ]
  },
  {
   "cell_type": "code",
   "execution_count": 17,
   "id": "driven-functionality",
   "metadata": {
    "vscode": {
     "languageId": "r"
    }
   },
   "outputs": [],
   "source": [
    "lca.list <- lapply(X = lca.list, FUN = ScaleData, verbose=FALSE)"
   ]
  },
  {
   "cell_type": "code",
   "execution_count": 18,
   "id": "frank-words",
   "metadata": {
    "vscode": {
     "languageId": "r"
    }
   },
   "outputs": [],
   "source": [
    "lca.list <- lapply(X = lca.list, FUN = RunPCA, npcs=30, verbose=FALSE)"
   ]
  },
  {
   "cell_type": "code",
   "execution_count": null,
   "id": "registered-findings",
   "metadata": {
    "vscode": {
     "languageId": "r"
    }
   },
   "outputs": [],
   "source": [
    "anchors <- list()\n",
    "for (i in 1:length(lca.list)) {\n",
    "  anchors[[i]] <- FindTransferAnchors(\n",
    "      reference = dat.integrated, \n",
    "      query = lca.list[[i]],\n",
    "      dims = 1:30,\n",
    "      k.filter = NA,\n",
    "      reference.reduction = \"pca\")\n",
    "}"
   ]
  },
  {
   "cell_type": "code",
   "execution_count": 20,
   "id": "aerial-burns",
   "metadata": {
    "collapsed": true,
    "jupyter": {
     "outputs_hidden": true
    },
    "tags": [],
    "vscode": {
     "languageId": "r"
    }
   },
   "outputs": [
    {
     "name": "stderr",
     "output_type": "stream",
     "text": [
      "Finding integration vectors\n",
      "\n",
      "Finding integration vector weights\n",
      "\n",
      "Predicting cell labels\n",
      "\n",
      "Finding integration vectors\n",
      "\n",
      "Finding integration vector weights\n",
      "\n",
      "Predicting cell labels\n",
      "\n",
      "Finding integration vectors\n",
      "\n",
      "Finding integration vector weights\n",
      "\n",
      "Predicting cell labels\n",
      "\n",
      "Finding integration vectors\n",
      "\n",
      "Finding integration vector weights\n",
      "\n",
      "Predicting cell labels\n",
      "\n",
      "Finding integration vectors\n",
      "\n",
      "Finding integration vector weights\n",
      "\n",
      "Predicting cell labels\n",
      "\n",
      "Finding integration vectors\n",
      "\n",
      "Finding integration vector weights\n",
      "\n",
      "Predicting cell labels\n",
      "\n",
      "Finding integration vectors\n",
      "\n",
      "Finding integration vector weights\n",
      "\n",
      "Predicting cell labels\n",
      "\n",
      "Finding integration vectors\n",
      "\n",
      "Finding integration vector weights\n",
      "\n",
      "Predicting cell labels\n",
      "\n",
      "Finding integration vectors\n",
      "\n",
      "Finding integration vector weights\n",
      "\n",
      "Predicting cell labels\n",
      "\n",
      "Finding integration vectors\n",
      "\n",
      "Finding integration vector weights\n",
      "\n",
      "Predicting cell labels\n",
      "\n",
      "Finding integration vectors\n",
      "\n",
      "Finding integration vector weights\n",
      "\n",
      "Predicting cell labels\n",
      "\n",
      "Finding integration vectors\n",
      "\n",
      "Finding integration vector weights\n",
      "\n",
      "Predicting cell labels\n",
      "\n",
      "Finding integration vectors\n",
      "\n",
      "Finding integration vector weights\n",
      "\n",
      "Predicting cell labels\n",
      "\n",
      "Finding integration vectors\n",
      "\n",
      "Finding integration vector weights\n",
      "\n",
      "Predicting cell labels\n",
      "\n",
      "Finding integration vectors\n",
      "\n",
      "Finding integration vector weights\n",
      "\n",
      "Predicting cell labels\n",
      "\n",
      "Finding integration vectors\n",
      "\n",
      "Finding integration vector weights\n",
      "\n",
      "Predicting cell labels\n",
      "\n",
      "Finding integration vectors\n",
      "\n",
      "Finding integration vector weights\n",
      "\n",
      "Predicting cell labels\n",
      "\n",
      "Finding integration vectors\n",
      "\n",
      "Finding integration vector weights\n",
      "\n",
      "Predicting cell labels\n",
      "\n",
      "Finding integration vectors\n",
      "\n",
      "Finding integration vector weights\n",
      "\n",
      "Predicting cell labels\n",
      "\n",
      "Finding integration vectors\n",
      "\n",
      "Finding integration vector weights\n",
      "\n",
      "Predicting cell labels\n",
      "\n",
      "Finding integration vectors\n",
      "\n",
      "Finding integration vector weights\n",
      "\n",
      "Predicting cell labels\n",
      "\n",
      "Finding integration vectors\n",
      "\n",
      "Finding integration vector weights\n",
      "\n",
      "Predicting cell labels\n",
      "\n",
      "Finding integration vectors\n",
      "\n",
      "Finding integration vector weights\n",
      "\n",
      "Predicting cell labels\n",
      "\n",
      "Finding integration vectors\n",
      "\n",
      "Finding integration vector weights\n",
      "\n",
      "Predicting cell labels\n",
      "\n",
      "Finding integration vectors\n",
      "\n",
      "Finding integration vector weights\n",
      "\n",
      "Predicting cell labels\n",
      "\n",
      "Finding integration vectors\n",
      "\n",
      "Finding integration vector weights\n",
      "\n",
      "Predicting cell labels\n",
      "\n",
      "Finding integration vectors\n",
      "\n",
      "Finding integration vector weights\n",
      "\n",
      "Predicting cell labels\n",
      "\n",
      "Finding integration vectors\n",
      "\n",
      "Finding integration vector weights\n",
      "\n",
      "Predicting cell labels\n",
      "\n",
      "Finding integration vectors\n",
      "\n",
      "Finding integration vector weights\n",
      "\n",
      "Predicting cell labels\n",
      "\n"
     ]
    }
   ],
   "source": [
    "predictions <- list()\n",
    "for (i in 1:length(lca.list)) {\n",
    "  predictions[[i]] <- TransferData(\n",
    "      anchorset = anchors[[i]], \n",
    "      refdata = dat.integrated$cell_ontology_class,\n",
    "      dims = 1:30)\n",
    "}"
   ]
  },
  {
   "cell_type": "code",
   "execution_count": 21,
   "id": "popular-bolivia",
   "metadata": {
    "vscode": {
     "languageId": "r"
    }
   },
   "outputs": [
    {
     "name": "stderr",
     "output_type": "stream",
     "text": [
      "\n",
      "Attaching package: ‘dplyr’\n",
      "\n",
      "\n",
      "The following objects are masked from ‘package:stats’:\n",
      "\n",
      "    filter, lag\n",
      "\n",
      "\n",
      "The following objects are masked from ‘package:base’:\n",
      "\n",
      "    intersect, setdiff, setequal, union\n",
      "\n",
      "\n"
     ]
    }
   ],
   "source": [
    "library(dplyr)\n",
    "all_predictions <-bind_rows(predictions)"
   ]
  },
  {
   "cell_type": "code",
   "execution_count": 22,
   "id": "weekly-completion",
   "metadata": {
    "vscode": {
     "languageId": "r"
    }
   },
   "outputs": [
    {
     "data": {
      "text/html": [
       "<style>\n",
       ".list-inline {list-style: none; margin:0; padding: 0}\n",
       ".list-inline>li {display: inline-block}\n",
       ".list-inline>li:not(:last-child)::after {content: \"\\00b7\"; padding: 0 .5ex}\n",
       "</style>\n",
       "<ol class=list-inline><li>255901</li><li>32</li></ol>\n"
      ],
      "text/latex": [
       "\\begin{enumerate*}\n",
       "\\item 255901\n",
       "\\item 32\n",
       "\\end{enumerate*}\n"
      ],
      "text/markdown": [
       "1. 255901\n",
       "2. 32\n",
       "\n",
       "\n"
      ],
      "text/plain": [
       "[1] 255901     32"
      ]
     },
     "metadata": {},
     "output_type": "display_data"
    }
   ],
   "source": [
    "dim(all_predictions)"
   ]
  },
  {
   "cell_type": "code",
   "execution_count": 23,
   "id": "hungry-parameter",
   "metadata": {
    "vscode": {
     "languageId": "r"
    }
   },
   "outputs": [],
   "source": [
    "write.csv(all_predictions, \"seurat_predictions.csv\")"
   ]
  },
  {
   "cell_type": "code",
   "execution_count": null,
   "id": "9c56352a",
   "metadata": {
    "vscode": {
     "languageId": "r"
    }
   },
   "outputs": [],
   "source": []
  }
 ],
 "metadata": {
  "kernelspec": {
   "display_name": "R_seurat",
   "language": "R",
   "name": "r_seurat"
  },
  "language_info": {
   "codemirror_mode": "r",
   "file_extension": ".r",
   "mimetype": "text/x-r-source",
   "name": "R",
   "pygments_lexer": "r",
   "version": "4.2.0"
  },
  "vscode": {
   "interpreter": {
    "hash": "2857c5ccaeec11a91bf0740c805f8116a28aeae80e092559ee2c033b5bd2ef23"
   }
  }
 },
 "nbformat": 4,
 "nbformat_minor": 5
}
